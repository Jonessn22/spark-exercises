{
 "cells": [
  {
   "cell_type": "markdown",
   "id": "42476210",
   "metadata": {},
   "source": [
    "# Spark API Exercises"
   ]
  },
  {
   "cell_type": "markdown",
   "id": "87d571df",
   "metadata": {},
   "source": [
    "## Exercise 1\n",
    "1. Create a spark data frame that contains your favorite programming languages.\n",
    "With oone column named `language`\n",
    "<br>*Hint: Start with a pandas dataframe. Maybe use a dictionary?*\n",
    "2. View the schema of the dataframe\n",
    "3. Output the shape of the dataframe\n",
    "4. Show the first 5 records in the dataframe"
   ]
  },
  {
   "cell_type": "code",
   "execution_count": 1,
   "id": "14938a8a",
   "metadata": {},
   "outputs": [],
   "source": [
    "# standard python imports\n",
    "import pandas as pd\n",
    "import numpy as np"
   ]
  },
  {
   "cell_type": "code",
   "execution_count": 4,
   "id": "ad35626d",
   "metadata": {},
   "outputs": [
    {
     "data": {
      "text/html": [
       "<div>\n",
       "<style scoped>\n",
       "    .dataframe tbody tr th:only-of-type {\n",
       "        vertical-align: middle;\n",
       "    }\n",
       "\n",
       "    .dataframe tbody tr th {\n",
       "        vertical-align: top;\n",
       "    }\n",
       "\n",
       "    .dataframe thead th {\n",
       "        text-align: right;\n",
       "    }\n",
       "</style>\n",
       "<table border=\"1\" class=\"dataframe\">\n",
       "  <thead>\n",
       "    <tr style=\"text-align: right;\">\n",
       "      <th></th>\n",
       "      <th>languages</th>\n",
       "    </tr>\n",
       "  </thead>\n",
       "  <tbody>\n",
       "    <tr>\n",
       "      <th>0</th>\n",
       "      <td>CSS</td>\n",
       "    </tr>\n",
       "    <tr>\n",
       "      <th>1</th>\n",
       "      <td>Python</td>\n",
       "    </tr>\n",
       "    <tr>\n",
       "      <th>2</th>\n",
       "      <td>JavaScript</td>\n",
       "    </tr>\n",
       "    <tr>\n",
       "      <th>3</th>\n",
       "      <td>HTML</td>\n",
       "    </tr>\n",
       "  </tbody>\n",
       "</table>\n",
       "</div>"
      ],
      "text/plain": [
       "    languages\n",
       "0         CSS\n",
       "1      Python\n",
       "2  JavaScript\n",
       "3        HTML"
      ]
     },
     "execution_count": 4,
     "metadata": {},
     "output_type": "execute_result"
    }
   ],
   "source": [
    "# testing code output to create df\n",
    "pd.DataFrame({'languages': ['CSS', 'Python', 'JavaScript', 'HTML']})"
   ]
  },
  {
   "cell_type": "code",
   "execution_count": 5,
   "id": "454f60c4",
   "metadata": {},
   "outputs": [],
   "source": [
    "# storing pandas df in variable\n",
    "fav_languages = pd.DataFrame({'languages': ['CSS', 'Python', 'JavaScript', 'HTML']})"
   ]
  },
  {
   "cell_type": "code",
   "execution_count": 6,
   "id": "31fe42fa",
   "metadata": {},
   "outputs": [
    {
     "data": {
      "text/plain": [
       "DataFrame[languages: string]"
      ]
     },
     "execution_count": 6,
     "metadata": {},
     "output_type": "execute_result"
    }
   ],
   "source": [
    "# importing pyspark library\n",
    "import pyspark\n",
    "\n",
    "# creating the spark object that activates the spark session\n",
    "spark = pyspark.sql.SparkSession.builder.getOrCreate()\n",
    "\n",
    "# testing code to transform pandas df to spark df\n",
    "spark.createDataFrame(fav_languages)"
   ]
  },
  {
   "cell_type": "code",
   "execution_count": 7,
   "id": "7ce91318",
   "metadata": {},
   "outputs": [],
   "source": [
    "# storing spark df in variable\n",
    "spark_fav_languages = spark.createDataFrame(fav_languages)"
   ]
  },
  {
   "cell_type": "code",
   "execution_count": 10,
   "id": "8357d5cb",
   "metadata": {},
   "outputs": [
    {
     "name": "stdout",
     "output_type": "stream",
     "text": [
      "+----------+\n",
      "| languages|\n",
      "+----------+\n",
      "|       CSS|\n",
      "|    Python|\n",
      "|JavaScript|\n",
      "|      HTML|\n",
      "+----------+\n",
      "\n"
     ]
    }
   ],
   "source": [
    "# 1. Create Spark df\n",
    "spark_fav_languages.show()"
   ]
  },
  {
   "cell_type": "code",
   "execution_count": 12,
   "id": "3f7d7d0b",
   "metadata": {},
   "outputs": [
    {
     "name": "stdout",
     "output_type": "stream",
     "text": [
      "+-------+---------+\n",
      "|summary|languages|\n",
      "+-------+---------+\n",
      "|  count|        4|\n",
      "|   mean|     null|\n",
      "| stddev|     null|\n",
      "|    min|      CSS|\n",
      "|    max|   Python|\n",
      "+-------+---------+\n",
      "\n"
     ]
    }
   ],
   "source": [
    "# 2. View schema of the df\n",
    "spark_fav_languages.describe().show()"
   ]
  },
  {
   "cell_type": "code",
   "execution_count": 13,
   "id": "460fb6b5",
   "metadata": {},
   "outputs": [
    {
     "name": "stdout",
     "output_type": "stream",
     "text": [
      "root\n",
      " |-- languages: string (nullable = true)\n",
      "\n"
     ]
    }
   ],
   "source": [
    "spark_fav_languages.printSchema()"
   ]
  },
  {
   "cell_type": "code",
   "execution_count": 18,
   "id": "a1d0d9ef",
   "metadata": {},
   "outputs": [
    {
     "name": "stdout",
     "output_type": "stream",
     "text": [
      "There are 4 rows and 1 columns.\n"
     ]
    }
   ],
   "source": [
    "# 3. Output the shape of the df\n",
    "print('There are',spark_fav_languages.count(),'rows and',len(spark_fav_languages.columns),'columns.')"
   ]
  },
  {
   "cell_type": "code",
   "execution_count": 22,
   "id": "ec316076",
   "metadata": {},
   "outputs": [
    {
     "name": "stdout",
     "output_type": "stream",
     "text": [
      "+----------+\n",
      "| languages|\n",
      "+----------+\n",
      "|       CSS|\n",
      "|    Python|\n",
      "|JavaScript|\n",
      "|      HTML|\n",
      "+----------+\n",
      "\n"
     ]
    }
   ],
   "source": [
    "# 4. Show the first 5 records in the dataframe\n",
    "spark_fav_languages.show(5)"
   ]
  },
  {
   "cell_type": "markdown",
   "id": "e8c8e0b1",
   "metadata": {},
   "source": [
    "## Exercise 2\n",
    "Load the `mpg` dataset as a spark dataframe.\n",
    "\n",
    "a. Create 1 column of output that contains a message like the one below for each record:\n",
    "\n",
    "    The 1999 audi a4 has a 4 cylinder engine.\n",
    "\n",
    "> Hint: You will need to concatenate values that already exist in the data with string literals\n",
    "\n",
    "b. Transform the trans column so that it only contains either manual or auto.\n",
    "\n",
    "> Hint: Consider spark string methods and `when().otherwise()` chaining"
   ]
  },
  {
   "cell_type": "code",
   "execution_count": 23,
   "id": "6cb5dbb1",
   "metadata": {},
   "outputs": [],
   "source": [
    "# import pydata\n",
    "from pydataset import data"
   ]
  },
  {
   "cell_type": "code",
   "execution_count": 25,
   "id": "5c987969",
   "metadata": {
    "scrolled": true
   },
   "outputs": [
    {
     "name": "stdout",
     "output_type": "stream",
     "text": [
      "+------------+-----+-----+----+---+----------+---+---+---+---+-------+\n",
      "|manufacturer|model|displ|year|cyl|     trans|drv|cty|hwy| fl|  class|\n",
      "+------------+-----+-----+----+---+----------+---+---+---+---+-------+\n",
      "|        audi|   a4|  1.8|1999|  4|  auto(l5)|  f| 18| 29|  p|compact|\n",
      "|        audi|   a4|  1.8|1999|  4|manual(m5)|  f| 21| 29|  p|compact|\n",
      "|        audi|   a4|  2.0|2008|  4|manual(m6)|  f| 20| 31|  p|compact|\n",
      "|        audi|   a4|  2.0|2008|  4|  auto(av)|  f| 21| 30|  p|compact|\n",
      "|        audi|   a4|  2.8|1999|  6|  auto(l5)|  f| 16| 26|  p|compact|\n",
      "+------------+-----+-----+----+---+----------+---+---+---+---+-------+\n",
      "only showing top 5 rows\n",
      "\n"
     ]
    }
   ],
   "source": [
    "# creating spark df from mpg data\n",
    "spark_mpg = spark.createDataFrame(data('mpg'))\n",
    "\n",
    "spark_mpg.show(5)"
   ]
  },
  {
   "cell_type": "code",
   "execution_count": 29,
   "id": "5cc922ae",
   "metadata": {},
   "outputs": [
    {
     "name": "stdout",
     "output_type": "stream",
     "text": [
      "The Column<'year'> Column<'manufacturer'> has a Column<'cyl'> cylinder engine.\n"
     ]
    }
   ],
   "source": [
    "# a. Create 1 column of output that contains a message like the one below for each record:\n",
    "#     The 1999 audi a4 has a 4 cylinder engine.\n",
    "\n",
    "print('The',spark_mpg.year,spark_mpg.manufacturer,'has a',spark_mpg.cyl,'cylinder engine.')"
   ]
  },
  {
   "cell_type": "code",
   "execution_count": 31,
   "id": "d7b63539",
   "metadata": {},
   "outputs": [],
   "source": [
    "# importing spark sql functions and string manipulation functions\n",
    "from pyspark.sql.functions import regexp_extract, regexp_replace"
   ]
  },
  {
   "cell_type": "code",
   "execution_count": 59,
   "id": "d4272036",
   "metadata": {},
   "outputs": [
    {
     "name": "stdout",
     "output_type": "stream",
     "text": [
      "+--------------------------------------+\n",
      "|msg_txt                               |\n",
      "+--------------------------------------+\n",
      "|The 1999 audi has a 4 cylinder engine.|\n",
      "|The 1999 audi has a 4 cylinder engine.|\n",
      "|The 2008 audi has a 4 cylinder engine.|\n",
      "|The 2008 audi has a 4 cylinder engine.|\n",
      "|The 1999 audi has a 6 cylinder engine.|\n",
      "+--------------------------------------+\n",
      "only showing top 5 rows\n",
      "\n"
     ]
    }
   ],
   "source": [
    "# importing lit function\n",
    "from pyspark.sql.functions import lit\n",
    "\n",
    "# creating the msg_text column\n",
    "spark_mpg.select(concat(lit('The '), spark_mpg.year, lit(' '), spark_mpg.manufacturer,\n",
    "                       lit(' has a '), spark_mpg.cyl, lit(' cylinder engine.')).alias('msg_txt')\n",
    "                ).show(5, truncate = False)"
   ]
  },
  {
   "cell_type": "code",
   "execution_count": 106,
   "id": "81fc75c6",
   "metadata": {
    "scrolled": false
   },
   "outputs": [
    {
     "ename": "TypeError",
     "evalue": "'Column' object is not callable",
     "output_type": "error",
     "traceback": [
      "\u001b[0;31m---------------------------------------------------------------------------\u001b[0m",
      "\u001b[0;31mTypeError\u001b[0m                                 Traceback (most recent call last)",
      "\u001b[0;32m<ipython-input-106-403ee4c7711d>\u001b[0m in \u001b[0;36m<module>\u001b[0;34m\u001b[0m\n\u001b[1;32m      1\u001b[0m spark_mpg.select(\n\u001b[0;32m----> 2\u001b[0;31m     \u001b[0;34m'trans'\u001b[0m\u001b[0;34m,\u001b[0m \u001b[0mregexp_replace\u001b[0m\u001b[0;34m(\u001b[0m\u001b[0;34m'trans'\u001b[0m\u001b[0;34m,\u001b[0m \u001b[0;34mr\"\\)\"\u001b[0m\u001b[0;34m,\u001b[0m \u001b[0;34m' '\u001b[0m\u001b[0;34m)\u001b[0m\u001b[0;34m.\u001b[0m\u001b[0malias\u001b[0m\u001b[0;34m(\u001b[0m\u001b[0;34m'trans_transformed'\u001b[0m\u001b[0;34m)\u001b[0m\u001b[0;34m\u001b[0m\u001b[0;34m\u001b[0m\u001b[0m\n\u001b[0m\u001b[1;32m      3\u001b[0m     .show())\n",
      "\u001b[0;31mTypeError\u001b[0m: 'Column' object is not callable"
     ]
    }
   ],
   "source": [
    "spark_mpg.select(\n",
    "    'trans', regexp_replace('trans', r\"\\)\", ' ').alias('trans_transformed')\n",
    "    .show())"
   ]
  },
  {
   "cell_type": "code",
   "execution_count": 68,
   "id": "dc154eaf",
   "metadata": {},
   "outputs": [
    {
     "name": "stdout",
     "output_type": "stream",
     "text": [
      "+------------+------------------+-----+----+---+----------+---+---+---+---+-------+\n",
      "|manufacturer|             model|displ|year|cyl|     trans|drv|cty|hwy| fl|  class|\n",
      "+------------+------------------+-----+----+---+----------+---+---+---+---+-------+\n",
      "|        audi|                a4|  1.8|1999|  4|  auto(l5)|  f| 18| 29|  p|compact|\n",
      "|        audi|                a4|  1.8|1999|  4|manual(m5)|  f| 21| 29|  p|compact|\n",
      "|        audi|                a4|  2.0|2008|  4|manual(m6)|  f| 20| 31|  p|compact|\n",
      "|        audi|                a4|  2.0|2008|  4|  auto(av)|  f| 21| 30|  p|compact|\n",
      "|        audi|                a4|  2.8|1999|  6|  auto(l5)|  f| 16| 26|  p|compact|\n",
      "|        audi|                a4|  2.8|1999|  6|manual(m5)|  f| 18| 26|  p|compact|\n",
      "|        audi|                a4|  3.1|2008|  6|  auto(av)|  f| 18| 27|  p|compact|\n",
      "|        audi|        a4 quattro|  1.8|1999|  4|manual(m5)|  4| 18| 26|  p|compact|\n",
      "|        audi|        a4 quattro|  1.8|1999|  4|  auto(l5)|  4| 16| 25|  p|compact|\n",
      "|        audi|        a4 quattro|  2.0|2008|  4|manual(m6)|  4| 20| 28|  p|compact|\n",
      "|        audi|        a4 quattro|  2.0|2008|  4|  auto(s6)|  4| 19| 27|  p|compact|\n",
      "|        audi|        a4 quattro|  2.8|1999|  6|  auto(l5)|  4| 15| 25|  p|compact|\n",
      "|        audi|        a4 quattro|  2.8|1999|  6|manual(m5)|  4| 17| 25|  p|compact|\n",
      "|        audi|        a4 quattro|  3.1|2008|  6|  auto(s6)|  4| 17| 25|  p|compact|\n",
      "|        audi|        a4 quattro|  3.1|2008|  6|manual(m6)|  4| 15| 25|  p|compact|\n",
      "|        audi|        a6 quattro|  2.8|1999|  6|  auto(l5)|  4| 15| 24|  p|midsize|\n",
      "|        audi|        a6 quattro|  3.1|2008|  6|  auto(s6)|  4| 17| 25|  p|midsize|\n",
      "|        audi|        a6 quattro|  4.2|2008|  8|  auto(s6)|  4| 16| 23|  p|midsize|\n",
      "|   chevrolet|c1500 suburban 2wd|  5.3|2008|  8|  auto(l4)|  r| 14| 20|  r|    suv|\n",
      "|   chevrolet|c1500 suburban 2wd|  5.3|2008|  8|  auto(l4)|  r| 11| 15|  e|    suv|\n",
      "+------------+------------------+-----+----+---+----------+---+---+---+---+-------+\n",
      "only showing top 20 rows\n",
      "\n"
     ]
    }
   ],
   "source": [
    "# b. Transform the trans column so that it only contains either manual or auto.\n",
    "spark_mpg.show()"
   ]
  },
  {
   "cell_type": "code",
   "execution_count": null,
   "id": "f840284a",
   "metadata": {},
   "outputs": [],
   "source": []
  },
  {
   "cell_type": "code",
   "execution_count": null,
   "id": "2a168554",
   "metadata": {},
   "outputs": [],
   "source": []
  }
 ],
 "metadata": {
  "kernelspec": {
   "display_name": "Python 3",
   "language": "python",
   "name": "python3"
  },
  "language_info": {
   "codemirror_mode": {
    "name": "ipython",
    "version": 3
   },
   "file_extension": ".py",
   "mimetype": "text/x-python",
   "name": "python",
   "nbconvert_exporter": "python",
   "pygments_lexer": "ipython3",
   "version": "3.8.8"
  }
 },
 "nbformat": 4,
 "nbformat_minor": 5
}
