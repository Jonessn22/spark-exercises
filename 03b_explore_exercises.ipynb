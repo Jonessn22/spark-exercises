{
 "cells": [
  {
   "cell_type": "markdown",
   "id": "683585af",
   "metadata": {},
   "source": [
    "# Explore Spark Exercises"
   ]
  },
  {
   "cell_type": "code",
   "execution_count": 2,
   "id": "95bf6a5e",
   "metadata": {},
   "outputs": [],
   "source": [
    "import warnings\n",
    "warnings.filterwarnings('ignore')\n",
    "\n",
    "import pyspark.sql\n",
    "from pyspark.sql.functions import *\n",
    "\n",
    "import numpy as np\n",
    "import pandas as pd\n",
    "\n",
    "%matplotlib inline\n",
    "import matplotlib.pyplot as plt\n",
    "import seaborn as sns\n",
    "\n",
    "from wrangle import wrangle_311"
   ]
  },
  {
   "cell_type": "code",
   "execution_count": 4,
   "id": "31305383",
   "metadata": {},
   "outputs": [],
   "source": [
    "spark = pyspark.sql.SparkSession.builder.getOrCreate()"
   ]
  },
  {
   "cell_type": "code",
   "execution_count": 5,
   "id": "cad71949",
   "metadata": {},
   "outputs": [
    {
     "name": "stdout",
     "output_type": "stream",
     "text": [
      "[wrangle.py] reading case.csv\n",
      "[wrangle.py] handling data types\n",
      "[wrangle.py] parsing dates\n",
      "[wrangle.py] adding features\n",
      "[wrangle.py] joining departments\n"
     ]
    }
   ],
   "source": [
    "df = wrangle_311(spark)"
   ]
  },
  {
   "cell_type": "code",
   "execution_count": 7,
   "id": "7587672d",
   "metadata": {},
   "outputs": [
    {
     "name": "stdout",
     "output_type": "stream",
     "text": [
      "df shape: 841704 rows, 20 columns\n"
     ]
    }
   ],
   "source": [
    "print(f'df shape: {df.count()} rows, {len(df.columns)} columns')"
   ]
  },
  {
   "cell_type": "code",
   "execution_count": 8,
   "id": "f85edbf5",
   "metadata": {},
   "outputs": [
    {
     "name": "stdout",
     "output_type": "stream",
     "text": [
      "-RECORD 0------------------------------------\n",
      " case_id              | 1014127332           \n",
      " case_opened_date     | 2018-01-01 00:42:00  \n",
      " case_closed_date     | 2018-01-01 12:29:00  \n",
      " case_due_date        | 2020-09-26 00:42:00  \n",
      " case_late            | false                \n",
      " num_days_late        | -998.5087616         \n",
      " case_closed          | true                 \n",
      " service_request_type | Stray Animal         \n",
      " SLA_days             | 999.0                \n",
      " case_status          | Closed               \n",
      " source_id            | svcCRMLS             \n",
      " request_address      | 2315  EL PASO ST,... \n",
      " council_district     | 005                  \n",
      " num_weeks_late       | -142.6441088         \n",
      " zipcode              | 78207                \n",
      " case_age             | 219                  \n",
      " days_to_closed       | 0                    \n",
      " case_lifetime        | 0                    \n",
      " department           | Animal Care Services \n",
      " dept_subject_to_SLA  | true                 \n",
      "only showing top 1 row\n",
      "\n"
     ]
    }
   ],
   "source": [
    "df.show(1, vertical = True)"
   ]
  },
  {
   "cell_type": "markdown",
   "id": "a0f4639b",
   "metadata": {},
   "source": [
    "## 1. How many different cases are there, by department?"
   ]
  },
  {
   "cell_type": "code",
   "execution_count": 10,
   "id": "ba392412",
   "metadata": {},
   "outputs": [
    {
     "name": "stdout",
     "output_type": "stream",
     "text": [
      "+--------------------+------+\n",
      "|          department| count|\n",
      "+--------------------+------+\n",
      "|         Solid Waste|279270|\n",
      "|Animal Care Services|116915|\n",
      "|Trans & Cap Impro...| 96193|\n",
      "|  Parks & Recreation| 19907|\n",
      "|    Customer Service|  2849|\n",
      "|        Metro Health|  5163|\n",
      "|        City Council|    33|\n",
      "|DSD/Code Enforcement|321374|\n",
      "+--------------------+------+\n",
      "\n"
     ]
    }
   ],
   "source": [
    "# using .groupby() function and then aggregating by count to get cases by dept\n",
    "df.groupby('department').count().show()"
   ]
  },
  {
   "cell_type": "code",
   "execution_count": 16,
   "id": "ef75fd9c",
   "metadata": {
    "scrolled": true
   },
   "outputs": [
    {
     "data": {
      "text/plain": [
       "department\n",
       "Solid Waste                 279270\n",
       "Animal Care Services        116915\n",
       "Trans & Cap Improvements     96193\n",
       "Parks & Recreation           19907\n",
       "Customer Service              2849\n",
       "Metro Health                  5163\n",
       "City Council                    33\n",
       "DSD/Code Enforcement        321374\n",
       "Name: count, dtype: int64"
      ]
     },
     "execution_count": 16,
     "metadata": {},
     "output_type": "execute_result"
    }
   ],
   "source": [
    "# saving the aggregated data above to a pandas df\n",
    "cases_by_dept = df.groupby('department').count().toPandas().set_index('department')['count']\n",
    "\n",
    "# looking at the pandas df\n",
    "cases_by_dept"
   ]
  },
  {
   "cell_type": "code",
   "execution_count": 24,
   "id": "b64fa196",
   "metadata": {},
   "outputs": [
    {
     "data": {
      "image/png": "[encoded data removed]",
      "text/plain": [
       "<Figure size 720x432 with 1 Axes>"
      ]
     },
     "metadata": {
      "needs_background": "light"
     },
     "output_type": "display_data"
    }
   ],
   "source": [
    "# visualizing the above data\n",
    "cases_by_dept.sort_values().plot.barh(figsize = (10, 6))\n",
    "plt.title('Cases by Department')\n",
    "plt.show()"
   ]
  },
  {
   "cell_type": "markdown",
   "id": "a13c8809",
   "metadata": {},
   "source": [
    "## 2. Does the percentage of cases that are late vary by department?"
   ]
  },
  {
   "cell_type": "code",
   "execution_count": 36,
   "id": "be32e2e1",
   "metadata": {},
   "outputs": [
    {
     "name": "stdout",
     "output_type": "stream",
     "text": [
      "+--------------------+------+------+\n",
      "|          department| false|  true|\n",
      "+--------------------+------+------+\n",
      "|         Solid Waste|  2.11| 13.67|\n",
      "|Animal Care Services|  0.25| 26.97|\n",
      "|Trans & Cap Impro...|  7.82| 30.22|\n",
      "|    Customer Service| 16.83|134.21|\n",
      "|  Parks & Recreation|   5.9| 36.53|\n",
      "|        Metro Health|  4.87|  16.8|\n",
      "|        City Council|138.94|  null|\n",
      "|DSD/Code Enforcement| 11.38| 98.71|\n",
      "+--------------------+------+------+\n",
      "\n"
     ]
    }
   ],
   "source": [
    "# aggregating the cases late and not late department averages in spark\n",
    "df.groupby('department')\\\n",
    "        .pivot('case_late')\\\n",
    "        .agg(round(mean('case_lifetime'), 2))\\\n",
    "    .show()"
   ]
  },
  {
   "cell_type": "code",
   "execution_count": 43,
   "id": "70a254d8",
   "metadata": {},
   "outputs": [
    {
     "data": {
      "text/html": [
       "<div>\n",
       "<style scoped>\n",
       "    .dataframe tbody tr th:only-of-type {\n",
       "        vertical-align: middle;\n",
       "    }\n",
       "\n",
       "    .dataframe tbody tr th {\n",
       "        vertical-align: top;\n",
       "    }\n",
       "\n",
       "    .dataframe thead th {\n",
       "        text-align: right;\n",
       "    }\n",
       "</style>\n",
       "<table border=\"1\" class=\"dataframe\">\n",
       "  <thead>\n",
       "    <tr style=\"text-align: right;\">\n",
       "      <th></th>\n",
       "      <th>not_late</th>\n",
       "      <th>late</th>\n",
       "    </tr>\n",
       "    <tr>\n",
       "      <th>department</th>\n",
       "      <th></th>\n",
       "      <th></th>\n",
       "    </tr>\n",
       "  </thead>\n",
       "  <tbody>\n",
       "    <tr>\n",
       "      <th>Solid Waste</th>\n",
       "      <td>2.11</td>\n",
       "      <td>13.67</td>\n",
       "    </tr>\n",
       "    <tr>\n",
       "      <th>Animal Care Services</th>\n",
       "      <td>0.25</td>\n",
       "      <td>26.97</td>\n",
       "    </tr>\n",
       "    <tr>\n",
       "      <th>Trans &amp; Cap Improvements</th>\n",
       "      <td>7.82</td>\n",
       "      <td>30.22</td>\n",
       "    </tr>\n",
       "    <tr>\n",
       "      <th>Customer Service</th>\n",
       "      <td>16.83</td>\n",
       "      <td>134.21</td>\n",
       "    </tr>\n",
       "    <tr>\n",
       "      <th>Parks &amp; Recreation</th>\n",
       "      <td>5.90</td>\n",
       "      <td>36.53</td>\n",
       "    </tr>\n",
       "    <tr>\n",
       "      <th>Metro Health</th>\n",
       "      <td>4.87</td>\n",
       "      <td>16.80</td>\n",
       "    </tr>\n",
       "    <tr>\n",
       "      <th>City Council</th>\n",
       "      <td>138.94</td>\n",
       "      <td>NaN</td>\n",
       "    </tr>\n",
       "    <tr>\n",
       "      <th>DSD/Code Enforcement</th>\n",
       "      <td>11.38</td>\n",
       "      <td>98.71</td>\n",
       "    </tr>\n",
       "  </tbody>\n",
       "</table>\n",
       "</div>"
      ],
      "text/plain": [
       "                          not_late    late\n",
       "department                                \n",
       "Solid Waste                   2.11   13.67\n",
       "Animal Care Services          0.25   26.97\n",
       "Trans & Cap Improvements      7.82   30.22\n",
       "Customer Service             16.83  134.21\n",
       "Parks & Recreation            5.90   36.53\n",
       "Metro Health                  4.87   16.80\n",
       "City Council                138.94     NaN\n",
       "DSD/Code Enforcement         11.38   98.71"
      ]
     },
     "execution_count": 43,
     "metadata": {},
     "output_type": "execute_result"
    }
   ],
   "source": [
    "# saving the above data to a pandas df\n",
    "case_late_by_dept = df.groupby('department')\\\n",
    "        .pivot('case_late')\\\n",
    "        .agg(round(mean('case_lifetime'), 2))\\\n",
    "        .toPandas()\\\n",
    ".set_index('department')\n",
    "\n",
    "# changing column names\n",
    "case_late_by_dept.columns = ['not_late', 'late']\n",
    "\n",
    "# looking at df\n",
    "case_late_by_dept"
   ]
  },
  {
   "cell_type": "code",
   "execution_count": 44,
   "id": "e5e5e7d2",
   "metadata": {},
   "outputs": [
    {
     "data": {
      "text/plain": [
       "<AxesSubplot:ylabel='department'>"
      ]
     },
     "execution_count": 44,
     "metadata": {},
     "output_type": "execute_result"
    },
    {
     "data": {
      "image/png": "[encoded data removed]",
      "text/plain": [
       "<Figure size 432x288 with 1 Axes>"
      ]
     },
     "metadata": {
      "needs_background": "light"
     },
     "output_type": "display_data"
    }
   ],
   "source": [
    "# visualizing data\n",
    "case_late_by_dept.plot.barh()"
   ]
  },
  {
   "cell_type": "code",
   "execution_count": 59,
   "id": "8049d650",
   "metadata": {},
   "outputs": [
    {
     "data": {
      "image/png": "[encoded data removed]",
      "text/plain": [
       "<Figure size 864x576 with 1 Axes>"
      ]
     },
     "metadata": {
      "needs_background": "light"
     },
     "output_type": "display_data"
    }
   ],
   "source": [
    "# changing the formatting\n",
    "case_late_by_dept.sort_values(by = 'late').plot.barh(figsize = (12, 8), stacked = True)\n",
    "plt.title('Case Late Status by Department')\n",
    "plt.show()"
   ]
  },
  {
   "cell_type": "markdown",
   "id": "aee3c1b8",
   "metadata": {},
   "source": [
    "## 3. On average, how late are the late cases by department?\n",
    "- group data by `department`\n",
    "- filter to only show results where `casle_late` == `True`\n",
    "- look at the average `num_days_late`"
   ]
  },
  {
   "cell_type": "code",
   "execution_count": 63,
   "id": "a2a465fb",
   "metadata": {},
   "outputs": [
    {
     "name": "stdout",
     "output_type": "stream",
     "text": [
      "-RECORD 0------------------------------------\n",
      " case_id              | 1014127332           \n",
      " case_opened_date     | 2018-01-01 00:42:00  \n",
      " case_closed_date     | 2018-01-01 12:29:00  \n",
      " case_due_date        | 2020-09-26 00:42:00  \n",
      " case_late            | false                \n",
      " num_days_late        | -998.5087616         \n",
      " case_closed          | true                 \n",
      " service_request_type | Stray Animal         \n",
      " SLA_days             | 999.0                \n",
      " case_status          | Closed               \n",
      " source_id            | svcCRMLS             \n",
      " request_address      | 2315  EL PASO ST,... \n",
      " council_district     | 005                  \n",
      " num_weeks_late       | -142.6441088         \n",
      " zipcode              | 78207                \n",
      " case_age             | 219                  \n",
      " days_to_closed       | 0                    \n",
      " case_lifetime        | 0                    \n",
      " department           | Animal Care Services \n",
      " dept_subject_to_SLA  | true                 \n",
      "only showing top 1 row\n",
      "\n"
     ]
    }
   ],
   "source": [
    "# looking at the first row of data, veritcally\n",
    "df.show(1, vertical = True)"
   ]
  },
  {
   "cell_type": "code",
   "execution_count": 65,
   "id": "155af7c9",
   "metadata": {},
   "outputs": [
    {
     "name": "stdout",
     "output_type": "stream",
     "text": [
      "+--------------------+-------------------+\n",
      "|          department| avg(num_days_late)|\n",
      "+--------------------+-------------------+\n",
      "|         Solid Waste|-2.1938644240225362|\n",
      "|Animal Care Services| -226.1654977071745|\n",
      "|Trans & Cap Impro...|  -20.5097935017854|\n",
      "|  Parks & Recreation| -5.283345998745914|\n",
      "|    Customer Service|  59.49019459221512|\n",
      "|        Metro Health| -4.904223205386018|\n",
      "|        City Council|               null|\n",
      "|DSD/Code Enforcement| -38.32346772537443|\n",
      "+--------------------+-------------------+\n",
      "\n"
     ]
    }
   ],
   "source": [
    "# grouping data by department and looking at average number of days late, by department\n",
    "df.groupby('department').agg(mean('num_days_late')).show()"
   ]
  },
  {
   "cell_type": "code",
   "execution_count": 85,
   "id": "d792a858",
   "metadata": {
    "scrolled": false
   },
   "outputs": [
    {
     "data": {
      "text/html": [
       "<div>\n",
       "<style scoped>\n",
       "    .dataframe tbody tr th:only-of-type {\n",
       "        vertical-align: middle;\n",
       "    }\n",
       "\n",
       "    .dataframe tbody tr th {\n",
       "        vertical-align: top;\n",
       "    }\n",
       "\n",
       "    .dataframe thead th {\n",
       "        text-align: right;\n",
       "    }\n",
       "</style>\n",
       "<table border=\"1\" class=\"dataframe\">\n",
       "  <thead>\n",
       "    <tr style=\"text-align: right;\">\n",
       "      <th></th>\n",
       "      <th>days_late</th>\n",
       "    </tr>\n",
       "    <tr>\n",
       "      <th>department</th>\n",
       "      <th></th>\n",
       "    </tr>\n",
       "  </thead>\n",
       "  <tbody>\n",
       "    <tr>\n",
       "      <th>Customer Service</th>\n",
       "      <td>87.68</td>\n",
       "    </tr>\n",
       "    <tr>\n",
       "      <th>DSD/Code Enforcement</th>\n",
       "      <td>49.38</td>\n",
       "    </tr>\n",
       "    <tr>\n",
       "      <th>Animal Care Services</th>\n",
       "      <td>23.46</td>\n",
       "    </tr>\n",
       "    <tr>\n",
       "      <th>Parks &amp; Recreation</th>\n",
       "      <td>22.35</td>\n",
       "    </tr>\n",
       "    <tr>\n",
       "      <th>Trans &amp; Cap Improvements</th>\n",
       "      <td>10.60</td>\n",
       "    </tr>\n",
       "    <tr>\n",
       "      <th>Solid Waste</th>\n",
       "      <td>7.19</td>\n",
       "    </tr>\n",
       "    <tr>\n",
       "      <th>Metro Health</th>\n",
       "      <td>6.54</td>\n",
       "    </tr>\n",
       "  </tbody>\n",
       "</table>\n",
       "</div>"
      ],
      "text/plain": [
       "                          days_late\n",
       "department                         \n",
       "Customer Service              87.68\n",
       "DSD/Code Enforcement          49.38\n",
       "Animal Care Services          23.46\n",
       "Parks & Recreation            22.35\n",
       "Trans & Cap Improvements      10.60\n",
       "Solid Waste                    7.19\n",
       "Metro Health                   6.54"
      ]
     },
     "execution_count": 85,
     "metadata": {},
     "output_type": "execute_result"
    }
   ],
   "source": [
    "# filtering the above data to only show cases where case_late == True\n",
    "avg_late_by_dept = df.filter(df.case_late == True)\\\n",
    "    .groupby('department')\\\n",
    "    .agg(round(mean('num_days_late'), 2).alias('days_late'))\\\n",
    ".toPandas()\\\n",
    ".set_index('department')\\\n",
    ".sort_values(by = 'days_late', ascending = False)\n",
    "\n",
    "avg_late_by_dept"
   ]
  },
  {
   "cell_type": "code",
   "execution_count": 91,
   "id": "a2240359",
   "metadata": {},
   "outputs": [
    {
     "data": {
      "image/png": "[encoded data removed]",
      "text/plain": [
       "<Figure size 864x432 with 1 Axes>"
      ]
     },
     "metadata": {
      "needs_background": "light"
     },
     "output_type": "display_data"
    }
   ],
   "source": [
    "# visualizing the data\n",
    "avg_late_by_dept.plot.barh(figsize = (12, 6))\n",
    "plt.title('Average Days a Case is Late by Department')\n",
    "plt.show()"
   ]
  },
  {
   "cell_type": "markdown",
   "id": "7b451f63",
   "metadata": {},
   "source": [
    "## 4a. What is the service type that is the most late? \n",
    "## 4b. Just for Parks & Rec?"
   ]
  },
  {
   "cell_type": "code",
   "execution_count": null,
   "id": "6929e9fa",
   "metadata": {},
   "outputs": [],
   "source": []
  },
  {
   "cell_type": "code",
   "execution_count": null,
   "id": "60ca25ea",
   "metadata": {},
   "outputs": [],
   "source": []
  },
  {
   "cell_type": "markdown",
   "id": "af467329",
   "metadata": {},
   "source": [
    "## 5a. For the DSD/Code Enforcement department, what are the most common service request types? \n",
    "## 5b. Look at other departments too."
   ]
  },
  {
   "cell_type": "code",
   "execution_count": null,
   "id": "cb2eecd3",
   "metadata": {},
   "outputs": [],
   "source": []
  },
  {
   "cell_type": "code",
   "execution_count": null,
   "id": "361dcb35",
   "metadata": {},
   "outputs": [],
   "source": []
  },
  {
   "cell_type": "markdown",
   "id": "995a2394",
   "metadata": {},
   "source": [
    "## 6. Does whether or not its a weekend matter for when a case is opened/closed?"
   ]
  },
  {
   "cell_type": "code",
   "execution_count": null,
   "id": "6c56c9c2",
   "metadata": {},
   "outputs": [],
   "source": []
  },
  {
   "cell_type": "code",
   "execution_count": null,
   "id": "2dec20c2",
   "metadata": {},
   "outputs": [],
   "source": []
  },
  {
   "cell_type": "markdown",
   "id": "d26950ec",
   "metadata": {},
   "source": [
    "## 7. On average, how many cases are opened a day for the Customer Service department?"
   ]
  },
  {
   "cell_type": "code",
   "execution_count": null,
   "id": "72137823",
   "metadata": {},
   "outputs": [],
   "source": []
  },
  {
   "cell_type": "code",
   "execution_count": null,
   "id": "f79c7b80",
   "metadata": {},
   "outputs": [],
   "source": []
  },
  {
   "cell_type": "markdown",
   "id": "12f9d8e5",
   "metadata": {},
   "source": [
    "## 8. Does the number of service requests for the solid waste department vary by day of the week?"
   ]
  },
  {
   "cell_type": "code",
   "execution_count": null,
   "id": "c04bfdd9",
   "metadata": {},
   "outputs": [],
   "source": []
  },
  {
   "cell_type": "code",
   "execution_count": null,
   "id": "9e5e2930",
   "metadata": {},
   "outputs": [],
   "source": []
  },
  {
   "cell_type": "code",
   "execution_count": null,
   "id": "cc16625b",
   "metadata": {},
   "outputs": [],
   "source": []
  }
 ],
 "metadata": {
  "kernelspec": {
   "display_name": "Python 3",
   "language": "python",
   "name": "python3"
  },
  "language_info": {
   "codemirror_mode": {
    "name": "ipython",
    "version": 3
   },
   "file_extension": ".py",
   "mimetype": "text/x-python",
   "name": "python",
   "nbconvert_exporter": "python",
   "pygments_lexer": "ipython3",
   "version": "3.8.8"
  }
 },
 "nbformat": 4,
 "nbformat_minor": 5
}
