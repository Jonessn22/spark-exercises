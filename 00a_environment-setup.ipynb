{
 "cells": [
  {
   "cell_type": "markdown",
   "id": "1a638ad4",
   "metadata": {},
   "source": [
    "# Environment Setup"
   ]
  },
  {
   "cell_type": "code",
   "execution_count": 1,
   "id": "c83d812e",
   "metadata": {},
   "outputs": [],
   "source": [
    "# importing pyspark\n",
    "import pyspark"
   ]
  },
  {
   "cell_type": "markdown",
   "id": "3d3d5641",
   "metadata": {},
   "source": [
    "## Spark Object\n",
    "The **spark object** allows us to interface with the underlying spark instance and contains all of the environment configuration."
   ]
  },
  {
   "cell_type": "code",
   "execution_count": 2,
   "id": "77642a72",
   "metadata": {},
   "outputs": [],
   "source": [
    "# creating spark object\n",
    "spark = pyspark.sql.SparkSession.builder.getOrCreate()"
   ]
  },
  {
   "cell_type": "code",
   "execution_count": 3,
   "id": "6fee6bd7",
   "metadata": {},
   "outputs": [
    {
     "name": "stdout",
     "output_type": "stream",
     "text": [
      "+---+\n",
      "| id|\n",
      "+---+\n",
      "|  0|\n",
      "|  1|\n",
      "|  2|\n",
      "|  3|\n",
      "|  4|\n",
      "+---+\n",
      "\n"
     ]
    }
   ],
   "source": [
    "# calling range function\n",
    "spark.range(5).show()"
   ]
  },
  {
   "cell_type": "markdown",
   "id": "f023379f",
   "metadata": {},
   "source": [
    "## More Configuration Options"
   ]
  },
  {
   "cell_type": "code",
   "execution_count": 4,
   "id": "9340b0b8",
   "metadata": {},
   "outputs": [],
   "source": [
    "# importing multiprocessing\n",
    "import multiprocessing"
   ]
  },
  {
   "cell_type": "code",
   "execution_count": 5,
   "id": "706ebed0",
   "metadata": {},
   "outputs": [],
   "source": [
    "# creating nprocs object\n",
    "nprocs = multiprocessing.cpu_count()"
   ]
  },
  {
   "cell_type": "code",
   "execution_count": 6,
   "id": "20108d60",
   "metadata": {},
   "outputs": [],
   "source": [
    "# think this is configuring something?\n",
    "spark = (pyspark.sql.SparkSession.builder\n",
    "        .master('local')\n",
    "        .config('spark.jars.packages', 'mysql:mysql-connector-java:8.0.16')\n",
    "        .config('spark.drivers.memory', '4G')\n",
    "        .config('spark.drivers.cores', nprocs)\n",
    "        .appName('MySparkApplication')\n",
    "        .getOrCreate())"
   ]
  },
  {
   "cell_type": "code",
   "execution_count": 7,
   "id": "1688f786",
   "metadata": {},
   "outputs": [],
   "source": [
    "# importing pyspark.sql functions\n",
    "import pyspark.sql.functions as F"
   ]
  },
  {
   "cell_type": "code",
   "execution_count": null,
   "id": "80158a51",
   "metadata": {},
   "outputs": [],
   "source": []
  }
 ],
 "metadata": {
  "kernelspec": {
   "display_name": "Python 3",
   "language": "python",
   "name": "python3"
  },
  "language_info": {
   "codemirror_mode": {
    "name": "ipython",
    "version": 3
   },
   "file_extension": ".py",
   "mimetype": "text/x-python",
   "name": "python",
   "nbconvert_exporter": "python",
   "pygments_lexer": "ipython3",
   "version": "3.8.8"
  }
 },
 "nbformat": 4,
 "nbformat_minor": 5
}
