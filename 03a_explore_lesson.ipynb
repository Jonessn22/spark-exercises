{
 "cells": [
  {
   "cell_type": "markdown",
   "metadata": {},
   "source": [
    "# Explore\n",
    "\n",
    "- spark doesn't do visualization\n",
    "- several strategies:\n",
    "    - aggregation / analysis in spark\n",
    "    - samples: random or by subgroup\n",
    "    - aggregation in spark, viz in pandas\n",
    "- big data -> smaller, more managable subset -> laptop (pandas) -> viz (matplotlib, seaborn)"
   ]
  },
  {
   "cell_type": "code",
   "execution_count": 1,
   "metadata": {},
   "outputs": [
    {
     "name": "stdout",
     "output_type": "stream",
     "text": [
      "[wrangle.py] reading case.csv\n",
      "[wrangle.py] handling data types\n",
      "[wrangle.py] parsing dates\n",
      "[wrangle.py] adding features\n",
      "[wrangle.py] joining departments\n",
      "\n",
      "df shape: (841704, 20)\n",
      "\n",
      "-RECORD 0------------------------------------\n",
      " case_id              | 1014127332           \n",
      " case_opened_date     | 2018-01-01 00:42:00  \n",
      " case_closed_date     | 2018-01-01 12:29:00  \n",
      " case_due_date        | 2020-09-26 00:42:00  \n",
      " case_late            | false                \n",
      " num_days_late        | -998.5087616         \n",
      " case_closed          | true                 \n",
      " service_request_type | Stray Animal         \n",
      " SLA_days             | 999.0                \n",
      " case_status          | Closed               \n",
      " source_id            | svcCRMLS             \n",
      " request_address      | 2315  EL PASO ST,... \n",
      " council_district     | 005                  \n",
      " num_weeks_late       | -142.6441088         \n",
      " zipcode              | 78207                \n",
      " case_age             | 219                  \n",
      " days_to_closed       | 0                    \n",
      " case_lifetime        | 0                    \n",
      " department           | Animal Care Services \n",
      " dept_subject_to_SLA  | true                 \n",
      "only showing top 1 row\n",
      "\n"
     ]
    }
   ],
   "source": [
    "import pyspark.sql\n",
    "from pyspark.sql.functions import *\n",
    "\n",
    "import numpy as np\n",
    "import pandas as pd\n",
    "\n",
    "import matplotlib.pyplot as plt\n",
    "import seaborn as sns\n",
    "\n",
    "from wrangle import wrangle_311\n",
    "\n",
    "spark = pyspark.sql.SparkSession.builder.getOrCreate()\n",
    "\n",
    "df = wrangle_311(spark)\n",
    "print(\"\\ndf shape: (%d, %d)\\n\" % (df.count(), len(df.columns)))\n",
    "df.show(1, vertical=True)"
   ]
  },
  {
   "cell_type": "markdown",
   "metadata": {},
   "source": [
    "## All in Spark"
   ]
  },
  {
   "cell_type": "markdown",
   "metadata": {},
   "source": [
    "How many opened and closed cases are there?"
   ]
  },
  {
   "cell_type": "code",
   "execution_count": 3,
   "metadata": {},
   "outputs": [
    {
     "name": "stdout",
     "output_type": "stream",
     "text": [
      "+-----------+------+--------------------+\n",
      "|case_status| count|          percentage|\n",
      "+-----------+------+--------------------+\n",
      "|       Open| 18110|0.021515877315540857|\n",
      "|     Closed|823594|  0.9784841226844592|\n",
      "+-----------+------+--------------------+\n",
      "\n"
     ]
    }
   ],
   "source": [
    "# using .count() function to get number of rows\n",
    "nrows = df.count()\n",
    "\n",
    "# looking at the percentages of open and closed cases\n",
    "df.groupby(\"case_status\").count().withColumn('percentage', col('count') / nrows).show()"
   ]
  },
  {
   "cell_type": "markdown",
   "metadata": {},
   "source": [
    "What's the average amount of time a case is open?"
   ]
  },
  {
   "cell_type": "code",
   "execution_count": 4,
   "metadata": {},
   "outputs": [
    {
     "name": "stdout",
     "output_type": "stream",
     "text": [
      "+-----------+------------------+\n",
      "|case_status|avg(case_lifetime)|\n",
      "+-----------+------------------+\n",
      "|       Open| 82.87338487023744|\n",
      "|     Closed| 9.108263294778737|\n",
      "+-----------+------------------+\n",
      "\n"
     ]
    }
   ],
   "source": [
    "df.groupby(\"case_status\").agg(mean(\"case_lifetime\")).show()"
   ]
  },
  {
   "cell_type": "markdown",
   "metadata": {},
   "source": [
    "How many requests are there by department?"
   ]
  },
  {
   "cell_type": "code",
   "execution_count": 5,
   "metadata": {},
   "outputs": [
    {
     "name": "stdout",
     "output_type": "stream",
     "text": [
      "+--------------------+------+\n",
      "|          department| count|\n",
      "+--------------------+------+\n",
      "|         Solid Waste|279270|\n",
      "|Animal Care Services|116915|\n",
      "|Trans & Cap Impro...| 96193|\n",
      "|  Parks & Recreation| 19907|\n",
      "|    Customer Service|  2849|\n",
      "|        Metro Health|  5163|\n",
      "|        City Council|    33|\n",
      "|DSD/Code Enforcement|321374|\n",
      "+--------------------+------+\n",
      "\n"
     ]
    }
   ],
   "source": [
    "# looking at the number of cases for each dept\n",
    "df.groupBy(\"department\").count().show()"
   ]
  },
  {
   "cell_type": "code",
   "execution_count": 6,
   "metadata": {},
   "outputs": [
    {
     "data": {
      "text/html": [
       "<div>\n",
       "<style scoped>\n",
       "    .dataframe tbody tr th:only-of-type {\n",
       "        vertical-align: middle;\n",
       "    }\n",
       "\n",
       "    .dataframe tbody tr th {\n",
       "        vertical-align: top;\n",
       "    }\n",
       "\n",
       "    .dataframe thead th {\n",
       "        text-align: right;\n",
       "    }\n",
       "</style>\n",
       "<table border=\"1\" class=\"dataframe\">\n",
       "  <thead>\n",
       "    <tr style=\"text-align: right;\">\n",
       "      <th></th>\n",
       "      <th>department</th>\n",
       "      <th>count</th>\n",
       "    </tr>\n",
       "  </thead>\n",
       "  <tbody>\n",
       "    <tr>\n",
       "      <th>0</th>\n",
       "      <td>Solid Waste</td>\n",
       "      <td>279270</td>\n",
       "    </tr>\n",
       "    <tr>\n",
       "      <th>1</th>\n",
       "      <td>Animal Care Services</td>\n",
       "      <td>116915</td>\n",
       "    </tr>\n",
       "    <tr>\n",
       "      <th>2</th>\n",
       "      <td>Trans &amp; Cap Improvements</td>\n",
       "      <td>96193</td>\n",
       "    </tr>\n",
       "    <tr>\n",
       "      <th>3</th>\n",
       "      <td>Parks &amp; Recreation</td>\n",
       "      <td>19907</td>\n",
       "    </tr>\n",
       "    <tr>\n",
       "      <th>4</th>\n",
       "      <td>Customer Service</td>\n",
       "      <td>2849</td>\n",
       "    </tr>\n",
       "    <tr>\n",
       "      <th>5</th>\n",
       "      <td>Metro Health</td>\n",
       "      <td>5163</td>\n",
       "    </tr>\n",
       "    <tr>\n",
       "      <th>6</th>\n",
       "      <td>City Council</td>\n",
       "      <td>33</td>\n",
       "    </tr>\n",
       "    <tr>\n",
       "      <th>7</th>\n",
       "      <td>DSD/Code Enforcement</td>\n",
       "      <td>321374</td>\n",
       "    </tr>\n",
       "  </tbody>\n",
       "</table>\n",
       "</div>"
      ],
      "text/plain": [
       "                 department   count\n",
       "0               Solid Waste  279270\n",
       "1      Animal Care Services  116915\n",
       "2  Trans & Cap Improvements   96193\n",
       "3        Parks & Recreation   19907\n",
       "4          Customer Service    2849\n",
       "5              Metro Health    5163\n",
       "6              City Council      33\n",
       "7      DSD/Code Enforcement  321374"
      ]
     },
     "execution_count": 6,
     "metadata": {},
     "output_type": "execute_result"
    }
   ],
   "source": [
    "# converting the spark df to a pandas df\n",
    "the_pandas_dataframe_we_know_and_love = df.groupBy(\"department\").count().toPandas()\n",
    "the_pandas_dataframe_we_know_and_love"
   ]
  },
  {
   "cell_type": "code",
   "execution_count": 7,
   "metadata": {},
   "outputs": [
    {
     "data": {
      "text/plain": [
       "pandas.core.frame.DataFrame"
      ]
     },
     "execution_count": 7,
     "metadata": {},
     "output_type": "execute_result"
    }
   ],
   "source": [
    "# verifying we are working with a pandas df\n",
    "type(the_pandas_dataframe_we_know_and_love)"
   ]
  },
  {
   "cell_type": "markdown",
   "metadata": {},
   "source": [
    "Be careful! Make sure you only convert a reasonable amount of data to a pandas dataframe."
   ]
  },
  {
   "cell_type": "markdown",
   "metadata": {},
   "source": [
    "## Aggregate With Spark"
   ]
  },
  {
   "cell_type": "markdown",
   "metadata": {},
   "source": [
    "What does the case lifetime look like for each department?"
   ]
  },
  {
   "cell_type": "code",
   "execution_count": 10,
   "metadata": {},
   "outputs": [
    {
     "name": "stdout",
     "output_type": "stream",
     "text": [
      "+--------------------+------+\n",
      "|          department| count|\n",
      "+--------------------+------+\n",
      "|         Solid Waste|279270|\n",
      "|Animal Care Services|116915|\n",
      "|Trans & Cap Impro...| 96193|\n",
      "|  Parks & Recreation| 19907|\n",
      "|    Customer Service|  2849|\n",
      "|        Metro Health|  5163|\n",
      "|        City Council|    33|\n",
      "|DSD/Code Enforcement|321374|\n",
      "+--------------------+------+\n",
      "\n"
     ]
    }
   ],
   "source": [
    "df.groupBy(\"department\")\\\n",
    "    .count().show()"
   ]
  },
  {
   "cell_type": "code",
   "execution_count": 14,
   "metadata": {},
   "outputs": [
    {
     "data": {
      "text/plain": [
       "department\n",
       "DSD/Code Enforcement        321374\n",
       "Solid Waste                 279270\n",
       "Animal Care Services        116915\n",
       "Trans & Cap Improvements     96193\n",
       "Parks & Recreation           19907\n",
       "Metro Health                  5163\n",
       "Customer Service              2849\n",
       "City Council                    33\n",
       "Name: count, dtype: int64"
      ]
     },
     "execution_count": 14,
     "metadata": {},
     "output_type": "execute_result"
    }
   ],
   "source": [
    "df.groupBy(\"department\")\\\n",
    "    .count()\\\n",
    "    .toPandas()\\\n",
    "    .set_index(\"department\")[\"count\"]\\\n",
    "    .sort_values(ascending=False)"
   ]
  },
  {
   "cell_type": "code",
   "execution_count": 11,
   "metadata": {},
   "outputs": [
    {
     "data": {
      "text/plain": [
       "Text(0.5, 0, 'Number of Cases')"
      ]
     },
     "execution_count": 11,
     "metadata": {},
     "output_type": "execute_result"
    },
    {
     "data": {
      "image/png": "[encoded data removed]",
      "text/plain": [
       "<Figure size 1008x360 with 1 Axes>"
      ]
     },
     "metadata": {
      "needs_background": "light"
     },
     "output_type": "display_data"
    }
   ],
   "source": [
    "# First aggregate with spark\n",
    "(\n",
    "    df.groupBy(\"department\")\n",
    "    .count()\n",
    "    # then pass to pandas\n",
    "    .toPandas()\n",
    "    .set_index(\"department\")[\"count\"]\n",
    "    .sort_values(ascending=False)\n",
    "    .plot.barh(width=1, edgecolor=\"black\", figsize=(14, 5))\n",
    ")\n",
    "\n",
    "plt.title(\"Number of Cases By Department\")\n",
    "plt.ylabel(\"\")\n",
    "plt.xlabel(\"Number of Cases\")"
   ]
  },
  {
   "cell_type": "code",
   "execution_count": 15,
   "metadata": {},
   "outputs": [
    {
     "data": {
      "text/plain": [
       "Text(0.5, 1.0, 'Case Lifetime By Department')"
      ]
     },
     "execution_count": 15,
     "metadata": {},
     "output_type": "execute_result"
    },
    {
     "data": {
      "image/png": "[encoded data removed]",
      "text/plain": [
       "<Figure size 1008x360 with 1 Axes>"
      ]
     },
     "metadata": {
      "needs_background": "light"
     },
     "output_type": "display_data"
    }
   ],
   "source": [
    "# first aggregate with spark\n",
    "(\n",
    "    df.groupBy(\"department\")\n",
    "    .agg(mean(\"case_lifetime\").alias(\"avg_case_lifetime\"))\n",
    "    # then pass the data to pandas for visualization\n",
    "    .toPandas()\n",
    "    .set_index(\"department\")\n",
    "    .avg_case_lifetime.sort_values(ascending=False)\n",
    "    .plot.barh(width=1, edgecolor=\"black\", figsize=(14, 5))\n",
    ")\n",
    "\n",
    "plt.xlabel(\"Average Case Lifetime\")\n",
    "plt.ylabel(\"\")\n",
    "plt.title(\"Case Lifetime By Department\")"
   ]
  },
  {
   "cell_type": "markdown",
   "metadata": {},
   "source": [
    "Average case lifetime by department for both open and closed cases:"
   ]
  },
  {
   "cell_type": "code",
   "execution_count": 16,
   "metadata": {},
   "outputs": [],
   "source": [
    "plt.rc('figure', figsize=(13, 7))\n",
    "plt.rc('font', size=15)"
   ]
  },
  {
   "cell_type": "code",
   "execution_count": 20,
   "metadata": {},
   "outputs": [
    {
     "name": "stdout",
     "output_type": "stream",
     "text": [
      "+--------------------+----------------------------+\n",
      "|          department|round(avg(case_lifetime), 2)|\n",
      "+--------------------+----------------------------+\n",
      "|         Solid Waste|                        3.48|\n",
      "|Animal Care Services|                        5.57|\n",
      "|Trans & Cap Impro...|                        9.08|\n",
      "|  Parks & Recreation|                       11.74|\n",
      "|    Customer Service|                       99.65|\n",
      "|        Metro Health|                        6.79|\n",
      "|        City Council|                      138.94|\n",
      "|DSD/Code Enforcement|                       18.51|\n",
      "+--------------------+----------------------------+\n",
      "\n"
     ]
    }
   ],
   "source": [
    "(\n",
    "    df.groupBy(\"department\")\n",
    "    .agg(round(mean(\"case_lifetime\"), 2))).show()"
   ]
  },
  {
   "cell_type": "code",
   "execution_count": 19,
   "metadata": {
    "scrolled": true
   },
   "outputs": [
    {
     "name": "stdout",
     "output_type": "stream",
     "text": [
      "+--------------------+------+------+\n",
      "|          department|Closed|  Open|\n",
      "+--------------------+------+------+\n",
      "|         Solid Waste|   3.4| 16.45|\n",
      "|Animal Care Services|  5.51| 21.36|\n",
      "|Trans & Cap Impro...|   8.0| 54.39|\n",
      "|    Customer Service| 48.94|172.94|\n",
      "|  Parks & Recreation| 10.66| 64.72|\n",
      "|        Metro Health|  6.82|  4.64|\n",
      "|        City Council| 29.25|154.07|\n",
      "|DSD/Code Enforcement| 15.64| 91.56|\n",
      "+--------------------+------+------+\n",
      "\n"
     ]
    }
   ],
   "source": [
    "(\n",
    "    df.groupBy(\"department\")\n",
    "    .pivot(\"case_status\")\n",
    "    .agg(round(mean(\"case_lifetime\"), 2))).show()"
   ]
  },
  {
   "cell_type": "code",
   "execution_count": 23,
   "metadata": {
    "scrolled": false
   },
   "outputs": [
    {
     "data": {
      "text/plain": [
       "Text(0.5, 0, 'Average case lifetime')"
      ]
     },
     "execution_count": 23,
     "metadata": {},
     "output_type": "execute_result"
    },
    {
     "data": {
      "image/png": "[encoded data removed]",
      "text/plain": [
       "<Figure size 936x504 with 1 Axes>"
      ]
     },
     "metadata": {
      "needs_background": "light"
     },
     "output_type": "display_data"
    }
   ],
   "source": [
    "(\n",
    "    df.groupBy(\"department\")\n",
    "    .pivot(\"case_status\")\n",
    "    .agg(round(mean(\"case_lifetime\"), 2))\n",
    "    .orderBy(\"Closed\")\n",
    "    .toPandas()\n",
    "    .set_index('department')\n",
    "    .plot.barh(ec='black', width=.9, stacked = True)\n",
    ")\n",
    "plt.xlabel('Average case lifetime')"
   ]
  },
  {
   "cell_type": "code",
   "execution_count": 24,
   "metadata": {},
   "outputs": [
    {
     "data": {
      "text/plain": [
       "Text(0.5, 0, 'Average case lifetime')"
      ]
     },
     "execution_count": 24,
     "metadata": {},
     "output_type": "execute_result"
    },
    {
     "data": {
      "image/png": "[encoded data removed]",
      "text/plain": [
       "<Figure size 936x504 with 1 Axes>"
      ]
     },
     "metadata": {
      "needs_background": "light"
     },
     "output_type": "display_data"
    }
   ],
   "source": [
    "(\n",
    "    df.groupBy(\"department\")\n",
    "    .pivot(\"case_status\")\n",
    "    .agg(round(mean(\"case_lifetime\"), 2))\n",
    "    .orderBy(\"Closed\")\n",
    "    .toPandas()\n",
    "    .set_index('department')\n",
    "    .plot.barh(ec='black', width=.9)\n",
    ")\n",
    "plt.xlabel('Average case lifetime')"
   ]
  },
  {
   "cell_type": "markdown",
   "metadata": {},
   "source": [
    "## Sample"
   ]
  },
  {
   "cell_type": "code",
   "execution_count": 25,
   "metadata": {},
   "outputs": [
    {
     "name": "stdout",
     "output_type": "stream",
     "text": [
      "shape: (8524, 20)\n"
     ]
    },
    {
     "data": {
      "text/html": [
       "<div>\n",
       "<style scoped>\n",
       "    .dataframe tbody tr th:only-of-type {\n",
       "        vertical-align: middle;\n",
       "    }\n",
       "\n",
       "    .dataframe tbody tr th {\n",
       "        vertical-align: top;\n",
       "    }\n",
       "\n",
       "    .dataframe thead th {\n",
       "        text-align: right;\n",
       "    }\n",
       "</style>\n",
       "<table border=\"1\" class=\"dataframe\">\n",
       "  <thead>\n",
       "    <tr style=\"text-align: right;\">\n",
       "      <th></th>\n",
       "      <th>case_id</th>\n",
       "      <th>case_opened_date</th>\n",
       "      <th>case_closed_date</th>\n",
       "      <th>case_due_date</th>\n",
       "      <th>case_late</th>\n",
       "      <th>num_days_late</th>\n",
       "      <th>case_closed</th>\n",
       "      <th>service_request_type</th>\n",
       "      <th>SLA_days</th>\n",
       "      <th>case_status</th>\n",
       "      <th>source_id</th>\n",
       "      <th>request_address</th>\n",
       "      <th>council_district</th>\n",
       "      <th>num_weeks_late</th>\n",
       "      <th>zipcode</th>\n",
       "      <th>case_age</th>\n",
       "      <th>days_to_closed</th>\n",
       "      <th>case_lifetime</th>\n",
       "      <th>department</th>\n",
       "      <th>dept_subject_to_SLA</th>\n",
       "    </tr>\n",
       "  </thead>\n",
       "  <tbody>\n",
       "    <tr>\n",
       "      <th>0</th>\n",
       "      <td>1014127339</td>\n",
       "      <td>2018-01-01 06:58:00</td>\n",
       "      <td>2018-01-02 15:32:00</td>\n",
       "      <td>2018-01-17 08:30:00</td>\n",
       "      <td>False</td>\n",
       "      <td>-14.706620</td>\n",
       "      <td>True</td>\n",
       "      <td>Front Or Side Yard Parking</td>\n",
       "      <td>16.063796</td>\n",
       "      <td>Closed</td>\n",
       "      <td>svcCRMSS</td>\n",
       "      <td>10133  FIGARO CANYON, San Antonio, 78251</td>\n",
       "      <td>004</td>\n",
       "      <td>-2.100946</td>\n",
       "      <td>78251</td>\n",
       "      <td>219</td>\n",
       "      <td>1.0</td>\n",
       "      <td>1</td>\n",
       "      <td>DSD/Code Enforcement</td>\n",
       "      <td>True</td>\n",
       "    </tr>\n",
       "    <tr>\n",
       "      <th>1</th>\n",
       "      <td>1014127368</td>\n",
       "      <td>2018-01-01 07:18:00</td>\n",
       "      <td>2018-01-02 15:22:00</td>\n",
       "      <td>2018-01-17 08:30:00</td>\n",
       "      <td>False</td>\n",
       "      <td>-14.713275</td>\n",
       "      <td>True</td>\n",
       "      <td>Right Of Way/Sidewalk Obstruction</td>\n",
       "      <td>16.049769</td>\n",
       "      <td>Closed</td>\n",
       "      <td>svcCRMSS</td>\n",
       "      <td>10133  FIGARO CANYON, San Antonio, 78251</td>\n",
       "      <td>004</td>\n",
       "      <td>-2.101896</td>\n",
       "      <td>78251</td>\n",
       "      <td>219</td>\n",
       "      <td>1.0</td>\n",
       "      <td>1</td>\n",
       "      <td>DSD/Code Enforcement</td>\n",
       "      <td>True</td>\n",
       "    </tr>\n",
       "    <tr>\n",
       "      <th>2</th>\n",
       "      <td>1014127446</td>\n",
       "      <td>2018-01-01 11:27:00</td>\n",
       "      <td>2018-01-03 17:08:00</td>\n",
       "      <td>2018-01-06 11:27:00</td>\n",
       "      <td>False</td>\n",
       "      <td>-2.763333</td>\n",
       "      <td>True</td>\n",
       "      <td>Aggressive Animal(Non-Critical)</td>\n",
       "      <td>5.000000</td>\n",
       "      <td>Closed</td>\n",
       "      <td>139344</td>\n",
       "      <td>SAN FERNANDO and SAN HORACIO S</td>\n",
       "      <td>005</td>\n",
       "      <td>-0.394762</td>\n",
       "      <td></td>\n",
       "      <td>219</td>\n",
       "      <td>2.0</td>\n",
       "      <td>2</td>\n",
       "      <td>Animal Care Services</td>\n",
       "      <td>True</td>\n",
       "    </tr>\n",
       "    <tr>\n",
       "      <th>3</th>\n",
       "      <td>1014127470</td>\n",
       "      <td>2018-01-01 12:33:00</td>\n",
       "      <td>2018-01-01 12:43:00</td>\n",
       "      <td>2020-09-26 12:33:00</td>\n",
       "      <td>False</td>\n",
       "      <td>-998.993079</td>\n",
       "      <td>True</td>\n",
       "      <td>Stray Animal</td>\n",
       "      <td>999.000000</td>\n",
       "      <td>Closed</td>\n",
       "      <td>139344</td>\n",
       "      <td>159  SURFRIDER, San Antonio, 78242</td>\n",
       "      <td>004</td>\n",
       "      <td>-142.713297</td>\n",
       "      <td>78242</td>\n",
       "      <td>219</td>\n",
       "      <td>0.0</td>\n",
       "      <td>0</td>\n",
       "      <td>Animal Care Services</td>\n",
       "      <td>True</td>\n",
       "    </tr>\n",
       "    <tr>\n",
       "      <th>4</th>\n",
       "      <td>1014127599</td>\n",
       "      <td>2018-01-01 15:25:00</td>\n",
       "      <td>2018-01-03 05:52:00</td>\n",
       "      <td>2018-01-02 03:25:00</td>\n",
       "      <td>True</td>\n",
       "      <td>1.101817</td>\n",
       "      <td>True</td>\n",
       "      <td>Trapped/Confined Animal</td>\n",
       "      <td>0.500000</td>\n",
       "      <td>Closed</td>\n",
       "      <td>rs16746</td>\n",
       "      <td>633  ST MARYS S, San Antonio, 78205</td>\n",
       "      <td>001</td>\n",
       "      <td>0.157402</td>\n",
       "      <td>78205</td>\n",
       "      <td>219</td>\n",
       "      <td>2.0</td>\n",
       "      <td>2</td>\n",
       "      <td>Animal Care Services</td>\n",
       "      <td>True</td>\n",
       "    </tr>\n",
       "  </tbody>\n",
       "</table>\n",
       "</div>"
      ],
      "text/plain": [
       "      case_id    case_opened_date    case_closed_date       case_due_date  \\\n",
       "0  1014127339 2018-01-01 06:58:00 2018-01-02 15:32:00 2018-01-17 08:30:00   \n",
       "1  1014127368 2018-01-01 07:18:00 2018-01-02 15:22:00 2018-01-17 08:30:00   \n",
       "2  1014127446 2018-01-01 11:27:00 2018-01-03 17:08:00 2018-01-06 11:27:00   \n",
       "3  1014127470 2018-01-01 12:33:00 2018-01-01 12:43:00 2020-09-26 12:33:00   \n",
       "4  1014127599 2018-01-01 15:25:00 2018-01-03 05:52:00 2018-01-02 03:25:00   \n",
       "\n",
       "   case_late  num_days_late  case_closed               service_request_type  \\\n",
       "0      False     -14.706620         True         Front Or Side Yard Parking   \n",
       "1      False     -14.713275         True  Right Of Way/Sidewalk Obstruction   \n",
       "2      False      -2.763333         True    Aggressive Animal(Non-Critical)   \n",
       "3      False    -998.993079         True                       Stray Animal   \n",
       "4       True       1.101817         True            Trapped/Confined Animal   \n",
       "\n",
       "     SLA_days case_status source_id                           request_address  \\\n",
       "0   16.063796      Closed  svcCRMSS  10133  FIGARO CANYON, San Antonio, 78251   \n",
       "1   16.049769      Closed  svcCRMSS  10133  FIGARO CANYON, San Antonio, 78251   \n",
       "2    5.000000      Closed    139344            SAN FERNANDO and SAN HORACIO S   \n",
       "3  999.000000      Closed    139344        159  SURFRIDER, San Antonio, 78242   \n",
       "4    0.500000      Closed   rs16746       633  ST MARYS S, San Antonio, 78205   \n",
       "\n",
       "  council_district  num_weeks_late zipcode  case_age  days_to_closed  \\\n",
       "0              004       -2.100946   78251       219             1.0   \n",
       "1              004       -2.101896   78251       219             1.0   \n",
       "2              005       -0.394762               219             2.0   \n",
       "3              004     -142.713297   78242       219             0.0   \n",
       "4              001        0.157402   78205       219             2.0   \n",
       "\n",
       "   case_lifetime            department  dept_subject_to_SLA  \n",
       "0              1  DSD/Code Enforcement                 True  \n",
       "1              1  DSD/Code Enforcement                 True  \n",
       "2              2  Animal Care Services                 True  \n",
       "3              0  Animal Care Services                 True  \n",
       "4              2  Animal Care Services                 True  "
      ]
     },
     "execution_count": 25,
     "metadata": {},
     "output_type": "execute_result"
    }
   ],
   "source": [
    "sample = df.sample(fraction=0.01, seed=13).toPandas()\n",
    "print(\"shape:\", sample.shape)\n",
    "sample.head()"
   ]
  },
  {
   "cell_type": "code",
   "execution_count": 26,
   "metadata": {},
   "outputs": [
    {
     "data": {
      "text/plain": [
       "<AxesSubplot:ylabel='Frequency'>"
      ]
     },
     "execution_count": 26,
     "metadata": {},
     "output_type": "execute_result"
    },
    {
     "data": {
      "image/png": "[encoded data removed]",
      "text/plain": [
       "<Figure size 936x504 with 1 Axes>"
      ]
     },
     "metadata": {
      "needs_background": "light"
     },
     "output_type": "display_data"
    }
   ],
   "source": [
    "sample.case_lifetime.plot.hist()"
   ]
  },
  {
   "cell_type": "code",
   "execution_count": 27,
   "metadata": {},
   "outputs": [
    {
     "data": {
      "text/plain": [
       "(-0.56, 140.0]    8436\n",
       "(140.0, 280.0]      69\n",
       "(280.0, 420.0]      14\n",
       "(420.0, 560.0]       5\n",
       "Name: case_lifetime, dtype: int64"
      ]
     },
     "execution_count": 27,
     "metadata": {},
     "output_type": "execute_result"
    }
   ],
   "source": [
    "pd.cut(sample.case_lifetime, 4).value_counts().sort_index()"
   ]
  },
  {
   "cell_type": "code",
   "execution_count": 28,
   "metadata": {},
   "outputs": [
    {
     "data": {
      "text/plain": [
       "(-0.001, 1.0]    4189\n",
       "(1.0, 3.0]       1132\n",
       "(3.0, 12.0]      1539\n",
       "(12.0, 560.0]    1664\n",
       "Name: case_lifetime, dtype: int64"
      ]
     },
     "execution_count": 28,
     "metadata": {},
     "output_type": "execute_result"
    }
   ],
   "source": [
    "pd.qcut(sample.case_lifetime, 5, duplicates='drop').value_counts().sort_index()"
   ]
  },
  {
   "cell_type": "code",
   "execution_count": 31,
   "metadata": {},
   "outputs": [
    {
     "name": "stdout",
     "output_type": "stream",
     "text": [
      "[0, 1)        2501\n",
      "[1, 2)        1688\n",
      "[2, 5)        1478\n",
      "[5, 15)       1401\n",
      "[15, 1000)    1456\n",
      "Name: case_lifetime, dtype: int64\n"
     ]
    },
    {
     "data": {
      "text/plain": [
       "Text(0, 0.5, '# of Cases')"
      ]
     },
     "execution_count": 31,
     "metadata": {},
     "output_type": "execute_result"
    },
    {
     "data": {
      "image/png": "[encoded data removed]",
      "text/plain": [
       "<Figure size 936x504 with 1 Axes>"
      ]
     },
     "metadata": {
      "needs_background": "light"
     },
     "output_type": "display_data"
    }
   ],
   "source": [
    "# In the call to `pd.cut`, we add right=False so that the behavior of pd.cut\n",
    "# aligns with the behavior of np.histogram, which is what matplotlib uses when\n",
    "# constructing a histogram.\n",
    "\n",
    "# custom bins of varying widths\n",
    "bins = [0, 1, 2, 5, 15, 1000]\n",
    "\n",
    "print(\n",
    "    pd.cut(sample.case_lifetime, bins, right=False).value_counts().sort_index()\n",
    ")\n",
    "\n",
    "pd.cut(\n",
    "    sample.case_lifetime, bins, right=False\n",
    ").value_counts().sort_index().plot.bar(\n",
    "    width=1, edgecolor=\"black\", color=\"green\"\n",
    ")\n",
    "plt.xticks(rotation=0)\n",
    "plt.title(\"Overall Case Lifetime\")\n",
    "plt.ylabel('# of Cases')"
   ]
  },
  {
   "cell_type": "code",
   "execution_count": 32,
   "metadata": {},
   "outputs": [],
   "source": [
    "closed_cases = sample.query(\"case_closed\")\n",
    "open_cases = sample.query(\"not case_closed\")"
   ]
  },
  {
   "cell_type": "code",
   "execution_count": 33,
   "metadata": {},
   "outputs": [
    {
     "data": {
      "text/plain": [
       "Text(0.5, 0.98, 'Distribution of Case Lifetime')"
      ]
     },
     "execution_count": 33,
     "metadata": {},
     "output_type": "execute_result"
    },
    {
     "data": {
      "image/png": "[encoded data removed]",
      "text/plain": [
       "<Figure size 1152x432 with 2 Axes>"
      ]
     },
     "metadata": {
      "needs_background": "light"
     },
     "output_type": "display_data"
    }
   ],
   "source": [
    "plt.figure(figsize=(16, 6))\n",
    "\n",
    "plt.subplot(121)\n",
    "(\n",
    "    pd.cut(closed_cases.case_lifetime, bins=bins, right=False)\n",
    "    .value_counts()\n",
    "    .sort_index()\n",
    "    .plot.bar(width=1, edgecolor=\"black\", color=\"pink\", ax=plt.gca())\n",
    ")\n",
    "plt.title(\"Closed Cases (n={:,})\".format(closed_cases.shape[0]))\n",
    "plt.xticks(rotation=0)\n",
    "\n",
    "plt.subplot(122)\n",
    "(\n",
    "    pd.cut(open_cases.case_lifetime, bins=bins, right=False)\n",
    "    .value_counts()\n",
    "    .sort_index()\n",
    "    .plot.bar(width=1, edgecolor=\"black\", color=\"pink\", ax=plt.gca())\n",
    ")\n",
    "plt.title(\"Open Cases (n={:,})\".format(open_cases.shape[0]))\n",
    "plt.xticks(rotation=0)\n",
    "\n",
    "plt.suptitle(\"Distribution of Case Lifetime\")"
   ]
  },
  {
   "cell_type": "code",
   "execution_count": 36,
   "metadata": {},
   "outputs": [],
   "source": [
    "# (\n",
    "#     sample.assign(closed_within_a_day=sample.case_lifetime <= 1)\n",
    "#     .groupby('closed_within_a_day')\n",
    "#     .size()\n",
    "#     .plot.barh(ec='black', fc='firebrick', width=.9)\n",
    "# )\n",
    "# plt.gca().set(\n",
    "#     title='Most Cases are Closed Within a day or 2',\n",
    "#     yticklabels=['Longer than 1 Day', 'Closed within a day'],\n",
    "#     ylabel='',\n",
    "#     xlabel='# of Cases'\n",
    "# )"
   ]
  },
  {
   "cell_type": "markdown",
   "metadata": {},
   "source": [
    "## Aggregating"
   ]
  },
  {
   "cell_type": "code",
   "execution_count": 35,
   "metadata": {},
   "outputs": [
    {
     "name": "stdout",
     "output_type": "stream",
     "text": [
      "+------------------------+----------------+----------------+\n",
      "|department              |case_opened_date|case_closed_date|\n",
      "+------------------------+----------------+----------------+\n",
      "|Animal Care Services    |2018-01-01      |2018-01-01      |\n",
      "|Trans & Cap Improvements|2018-01-01      |2018-01-03      |\n",
      "|Trans & Cap Improvements|2018-01-01      |2018-01-02      |\n",
      "|DSD/Code Enforcement    |2018-01-01      |2018-01-02      |\n",
      "|Animal Care Services    |2018-01-01      |2018-01-01      |\n",
      "+------------------------+----------------+----------------+\n",
      "only showing top 5 rows\n",
      "\n"
     ]
    }
   ],
   "source": [
    "cases_by_day = df.select(\n",
    "    \"department\",\n",
    "    date_format(\"case_opened_date\", \"yyyy-MM-dd\").alias(\"case_opened_date\"),\n",
    "    date_format(\"case_closed_date\", \"yyyy-MM-dd\").alias(\"case_closed_date\"),\n",
    ")\n",
    "\n",
    "cases_by_day.show(5, truncate=False)"
   ]
  },
  {
   "cell_type": "code",
   "execution_count": 37,
   "metadata": {},
   "outputs": [
    {
     "data": {
      "text/html": [
       "<div>\n",
       "<style scoped>\n",
       "    .dataframe tbody tr th:only-of-type {\n",
       "        vertical-align: middle;\n",
       "    }\n",
       "\n",
       "    .dataframe tbody tr th {\n",
       "        vertical-align: top;\n",
       "    }\n",
       "\n",
       "    .dataframe thead th {\n",
       "        text-align: right;\n",
       "    }\n",
       "</style>\n",
       "<table border=\"1\" class=\"dataframe\">\n",
       "  <thead>\n",
       "    <tr style=\"text-align: right;\">\n",
       "      <th></th>\n",
       "      <th>case_opened_date</th>\n",
       "      <th>count</th>\n",
       "    </tr>\n",
       "  </thead>\n",
       "  <tbody>\n",
       "    <tr>\n",
       "      <th>0</th>\n",
       "      <td>2017-01-01</td>\n",
       "      <td>155</td>\n",
       "    </tr>\n",
       "    <tr>\n",
       "      <th>1</th>\n",
       "      <td>2017-01-02</td>\n",
       "      <td>1397</td>\n",
       "    </tr>\n",
       "    <tr>\n",
       "      <th>2</th>\n",
       "      <td>2017-01-03</td>\n",
       "      <td>1760</td>\n",
       "    </tr>\n",
       "    <tr>\n",
       "      <th>3</th>\n",
       "      <td>2017-01-04</td>\n",
       "      <td>1613</td>\n",
       "    </tr>\n",
       "    <tr>\n",
       "      <th>4</th>\n",
       "      <td>2017-01-05</td>\n",
       "      <td>1791</td>\n",
       "    </tr>\n",
       "    <tr>\n",
       "      <th>...</th>\n",
       "      <td>...</td>\n",
       "      <td>...</td>\n",
       "    </tr>\n",
       "    <tr>\n",
       "      <th>580</th>\n",
       "      <td>2018-08-04</td>\n",
       "      <td>665</td>\n",
       "    </tr>\n",
       "    <tr>\n",
       "      <th>581</th>\n",
       "      <td>2018-08-05</td>\n",
       "      <td>319</td>\n",
       "    </tr>\n",
       "    <tr>\n",
       "      <th>582</th>\n",
       "      <td>2018-08-06</td>\n",
       "      <td>2071</td>\n",
       "    </tr>\n",
       "    <tr>\n",
       "      <th>583</th>\n",
       "      <td>2018-08-07</td>\n",
       "      <td>2405</td>\n",
       "    </tr>\n",
       "    <tr>\n",
       "      <th>584</th>\n",
       "      <td>2018-08-08</td>\n",
       "      <td>604</td>\n",
       "    </tr>\n",
       "  </tbody>\n",
       "</table>\n",
       "<p>585 rows × 2 columns</p>\n",
       "</div>"
      ],
      "text/plain": [
       "    case_opened_date  count\n",
       "0         2017-01-01    155\n",
       "1         2017-01-02   1397\n",
       "2         2017-01-03   1760\n",
       "3         2017-01-04   1613\n",
       "4         2017-01-05   1791\n",
       "..               ...    ...\n",
       "580       2018-08-04    665\n",
       "581       2018-08-05    319\n",
       "582       2018-08-06   2071\n",
       "583       2018-08-07   2405\n",
       "584       2018-08-08    604\n",
       "\n",
       "[585 rows x 2 columns]"
      ]
     },
     "execution_count": 37,
     "metadata": {},
     "output_type": "execute_result"
    }
   ],
   "source": [
    "(\n",
    "    cases_by_day\n",
    "    .groupby('case_opened_date')\n",
    "    .count()\n",
    "    .na.drop()\n",
    "    .sort('case_opened_date')\n",
    "    .toPandas())"
   ]
  },
  {
   "cell_type": "code",
   "execution_count": 38,
   "metadata": {},
   "outputs": [
    {
     "data": {
      "text/plain": [
       "case_opened_date\n",
       "2017-01-01     155\n",
       "2017-01-02    1397\n",
       "2017-01-03    1760\n",
       "2017-01-04    1613\n",
       "2017-01-05    1791\n",
       "              ... \n",
       "2018-08-04     665\n",
       "2018-08-05     319\n",
       "2018-08-06    2071\n",
       "2018-08-07    2405\n",
       "2018-08-08     604\n",
       "Name: cases_opened, Length: 585, dtype: int64"
      ]
     },
     "execution_count": 38,
     "metadata": {},
     "output_type": "execute_result"
    }
   ],
   "source": [
    "cases_opened_by_day = (\n",
    "    cases_by_day\n",
    "    .groupby('case_opened_date')\n",
    "    .count()\n",
    "    .na.drop()\n",
    "    .sort('case_opened_date')\n",
    "    .toPandas()\n",
    "    .assign(case_opened_date=lambda df: pd.to_datetime(df.case_opened_date))\n",
    "    .set_index('case_opened_date')\n",
    "    ['count']\n",
    ")\n",
    "cases_opened_by_day.name = 'cases_opened'\n",
    "cases_opened_by_day"
   ]
  },
  {
   "cell_type": "code",
   "execution_count": 39,
   "metadata": {},
   "outputs": [],
   "source": [
    "cases_closed_by_day = (\n",
    "    cases_by_day\n",
    "    .groupby('case_closed_date')\n",
    "    .count()\n",
    "    .na.drop()\n",
    "    .sort('case_closed_date')\n",
    "    .toPandas()\n",
    "    .assign(case_closed_date=lambda df: pd.to_datetime(df.case_closed_date))\n",
    "    .set_index('case_closed_date')\n",
    "    ['count']\n",
    ")\n",
    "cases_closed_by_day.name = 'cases_closed'"
   ]
  },
  {
   "cell_type": "code",
   "execution_count": 40,
   "metadata": {},
   "outputs": [
    {
     "data": {
      "text/plain": [
       "case_closed_date\n",
       "2017-01-01      67\n",
       "2017-01-02     385\n",
       "2017-01-03     734\n",
       "2017-01-04    1206\n",
       "2017-01-05    1173\n",
       "              ... \n",
       "2018-08-04     730\n",
       "2018-08-05     197\n",
       "2018-08-06    1713\n",
       "2018-08-07    2096\n",
       "2018-08-08     680\n",
       "Name: cases_closed, Length: 585, dtype: int64"
      ]
     },
     "execution_count": 40,
     "metadata": {},
     "output_type": "execute_result"
    }
   ],
   "source": [
    "cases_closed_by_day"
   ]
  },
  {
   "cell_type": "code",
   "execution_count": 41,
   "metadata": {},
   "outputs": [
    {
     "data": {
      "text/html": [
       "<div>\n",
       "<style scoped>\n",
       "    .dataframe tbody tr th:only-of-type {\n",
       "        vertical-align: middle;\n",
       "    }\n",
       "\n",
       "    .dataframe tbody tr th {\n",
       "        vertical-align: top;\n",
       "    }\n",
       "\n",
       "    .dataframe thead th {\n",
       "        text-align: right;\n",
       "    }\n",
       "</style>\n",
       "<table border=\"1\" class=\"dataframe\">\n",
       "  <thead>\n",
       "    <tr style=\"text-align: right;\">\n",
       "      <th></th>\n",
       "      <th>cases_opened</th>\n",
       "      <th>cases_closed</th>\n",
       "    </tr>\n",
       "  </thead>\n",
       "  <tbody>\n",
       "    <tr>\n",
       "      <th>2017-01-01</th>\n",
       "      <td>155</td>\n",
       "      <td>67</td>\n",
       "    </tr>\n",
       "    <tr>\n",
       "      <th>2017-01-02</th>\n",
       "      <td>1397</td>\n",
       "      <td>385</td>\n",
       "    </tr>\n",
       "    <tr>\n",
       "      <th>2017-01-03</th>\n",
       "      <td>1760</td>\n",
       "      <td>734</td>\n",
       "    </tr>\n",
       "    <tr>\n",
       "      <th>2017-01-04</th>\n",
       "      <td>1613</td>\n",
       "      <td>1206</td>\n",
       "    </tr>\n",
       "    <tr>\n",
       "      <th>2017-01-05</th>\n",
       "      <td>1791</td>\n",
       "      <td>1173</td>\n",
       "    </tr>\n",
       "    <tr>\n",
       "      <th>...</th>\n",
       "      <td>...</td>\n",
       "      <td>...</td>\n",
       "    </tr>\n",
       "    <tr>\n",
       "      <th>2018-08-04</th>\n",
       "      <td>665</td>\n",
       "      <td>730</td>\n",
       "    </tr>\n",
       "    <tr>\n",
       "      <th>2018-08-05</th>\n",
       "      <td>319</td>\n",
       "      <td>197</td>\n",
       "    </tr>\n",
       "    <tr>\n",
       "      <th>2018-08-06</th>\n",
       "      <td>2071</td>\n",
       "      <td>1713</td>\n",
       "    </tr>\n",
       "    <tr>\n",
       "      <th>2018-08-07</th>\n",
       "      <td>2405</td>\n",
       "      <td>2096</td>\n",
       "    </tr>\n",
       "    <tr>\n",
       "      <th>2018-08-08</th>\n",
       "      <td>604</td>\n",
       "      <td>680</td>\n",
       "    </tr>\n",
       "  </tbody>\n",
       "</table>\n",
       "<p>585 rows × 2 columns</p>\n",
       "</div>"
      ],
      "text/plain": [
       "            cases_opened  cases_closed\n",
       "2017-01-01           155            67\n",
       "2017-01-02          1397           385\n",
       "2017-01-03          1760           734\n",
       "2017-01-04          1613          1206\n",
       "2017-01-05          1791          1173\n",
       "...                  ...           ...\n",
       "2018-08-04           665           730\n",
       "2018-08-05           319           197\n",
       "2018-08-06          2071          1713\n",
       "2018-08-07          2405          2096\n",
       "2018-08-08           604           680\n",
       "\n",
       "[585 rows x 2 columns]"
      ]
     },
     "execution_count": 41,
     "metadata": {},
     "output_type": "execute_result"
    }
   ],
   "source": [
    "ts = pd.concat([cases_opened_by_day, cases_closed_by_day], axis=1)\n",
    "ts"
   ]
  },
  {
   "cell_type": "code",
   "execution_count": 42,
   "metadata": {},
   "outputs": [
    {
     "data": {
      "image/png": "[encoded data removed]",
      "text/plain": [
       "<Figure size 1584x432 with 1 Axes>"
      ]
     },
     "metadata": {
      "needs_background": "light"
     },
     "output_type": "display_data"
    }
   ],
   "source": [
    "ts.resample(\"M\").mean().plot.bar(\n",
    "    figsize=(22, 6), width=0.8, ec=\"black\", color=[\"thistle\", \"darkturquoise\"]\n",
    ")\n",
    "\n",
    "# pretty x-axis labels\n",
    "ticks, labels = plt.xticks()\n",
    "labels = pd.to_datetime([l.get_text() for l in labels]).strftime(\"%b %y\")\n",
    "plt.xticks(ticks, labels, rotation=0)\n",
    "None"
   ]
  },
  {
   "cell_type": "code",
   "execution_count": 48,
   "metadata": {},
   "outputs": [
    {
     "data": {
      "image/png": "[encoded data removed]",
      "text/plain": [
       "<Figure size 1584x432 with 1 Axes>"
      ]
     },
     "metadata": {
      "needs_background": "light"
     },
     "output_type": "display_data"
    }
   ],
   "source": [
    "ts.resample(\"Q\").mean().plot.bar(\n",
    "    figsize=(22, 6), width=0.8, ec=\"black\", color=[\"thistle\", \"darkturquoise\"]\n",
    ")\n",
    "\n",
    "# pretty x-axis labels\n",
    "ticks, labels = plt.xticks()\n",
    "labels = pd.to_datetime([l.get_text() for l in labels]).strftime(\"%b %y\")\n",
    "plt.xticks(ticks, labels, rotation=0)\n",
    "None"
   ]
  },
  {
   "cell_type": "code",
   "execution_count": 43,
   "metadata": {
    "scrolled": false
   },
   "outputs": [
    {
     "data": {
      "text/plain": [
       "(array([0, 1, 2, 3, 4, 5, 6]),\n",
       " [Text(0, 0, '0-Sun'),\n",
       "  Text(1, 0, '1-Mon'),\n",
       "  Text(2, 0, '2-Tue'),\n",
       "  Text(3, 0, '3-Wed'),\n",
       "  Text(4, 0, '4-Thu'),\n",
       "  Text(5, 0, '5-Fri'),\n",
       "  Text(6, 0, '6-Sat')])"
      ]
     },
     "execution_count": 43,
     "metadata": {},
     "output_type": "execute_result"
    },
    {
     "data": {
      "image/png": "[encoded data removed]",
      "text/plain": [
       "<Figure size 936x504 with 1 Axes>"
      ]
     },
     "metadata": {
      "needs_background": "light"
     },
     "output_type": "display_data"
    }
   ],
   "source": [
    "ts['weekday'] = ts.index.strftime('%w-%a')\n",
    "ts.groupby('weekday').mean().plot.bar(figsize=(13, 7), ec='black', width=.9)\n",
    "plt.xticks(rotation=0)"
   ]
  },
  {
   "cell_type": "code",
   "execution_count": null,
   "metadata": {},
   "outputs": [],
   "source": []
  }
 ],
 "metadata": {
  "kernelspec": {
   "display_name": "Python 3",
   "language": "python",
   "name": "python3"
  },
  "language_info": {
   "codemirror_mode": {
    "name": "ipython",
    "version": 3
   },
   "file_extension": ".py",
   "mimetype": "text/x-python",
   "name": "python",
   "nbconvert_exporter": "python",
   "pygments_lexer": "ipython3",
   "version": "3.8.8"
  }
 },
 "nbformat": 4,
 "nbformat_minor": 4
}
