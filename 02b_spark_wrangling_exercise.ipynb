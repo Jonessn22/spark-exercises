{
 "cells": [
  {
   "cell_type": "markdown",
   "id": "3346bf41",
   "metadata": {},
   "source": [
    "> # Imports"
   ]
  },
  {
   "cell_type": "code",
   "execution_count": 1,
   "id": "05d18d12",
   "metadata": {},
   "outputs": [],
   "source": [
    "# standard python library imports\n",
    "import numpy as np \n",
    "import pandas as pd\n",
    "\n",
    "# importing pyspark library\n",
    "import pyspark\n",
    "\n",
    "# importing all pyspark functions\n",
    "from pyspark.sql.functions import *"
   ]
  },
  {
   "cell_type": "markdown",
   "id": "1ee0b9dc",
   "metadata": {},
   "source": [
    "## i. Read the case, department, and source data into their own spark dataframes."
   ]
  },
  {
   "cell_type": "code",
   "execution_count": 2,
   "id": "6806cc7f",
   "metadata": {},
   "outputs": [],
   "source": [
    "# creating the spark object that activates the spark session\n",
    "spark = pyspark.sql.SparkSession.builder.getOrCreate()"
   ]
  },
  {
   "cell_type": "code",
   "execution_count": 3,
   "id": "3fa9243b",
   "metadata": {},
   "outputs": [],
   "source": [
    "# saving file paths to var to call later\n",
    "case_file = 'csv_files/case.csv'\n",
    "dept_file = 'csv_files/dept.csv'\n",
    "source_file = 'csv_files/source.csv'"
   ]
  },
  {
   "cell_type": "code",
   "execution_count": 4,
   "id": "19ad273a",
   "metadata": {},
   "outputs": [
    {
     "data": {
      "text/plain": [
       "DataFrame[case_id: string, case_opened_date: string, case_closed_date: string, SLA_due_date: string, case_late: string, num_days_late: string, case_closed: string, dept_division: string, service_request_type: string, SLA_days: string, case_status: string, source_id: string, request_address: string, council_district: string]"
      ]
     },
     "execution_count": 4,
     "metadata": {},
     "output_type": "execute_result"
    }
   ],
   "source": [
    "# reading case csv, putting together code that will use for function next\n",
    "spark.read.csv(case_file, header = True)"
   ]
  },
  {
   "cell_type": "code",
   "execution_count": 5,
   "id": "09efc6e6",
   "metadata": {},
   "outputs": [],
   "source": [
    "# creating function to read csv files\n",
    "def read_spark(file_name):\n",
    "    '''\n",
    "    This function takes in a csv file name and reads the file contents to a \n",
    "    spark DataFrame, returning that df.\n",
    "    '''\n",
    "    \n",
    "    return spark.read.csv(file_name, header = True)"
   ]
  },
  {
   "cell_type": "code",
   "execution_count": 6,
   "id": "28c692d2",
   "metadata": {},
   "outputs": [
    {
     "name": "stdout",
     "output_type": "stream",
     "text": [
      "+----------+----------------+----------------+------------+---------+-------------------+-----------+----------------+--------------------+-----------+-----------+---------+--------------------+----------------+\n",
      "|   case_id|case_opened_date|case_closed_date|SLA_due_date|case_late|      num_days_late|case_closed|   dept_division|service_request_type|   SLA_days|case_status|source_id|     request_address|council_district|\n",
      "+----------+----------------+----------------+------------+---------+-------------------+-----------+----------------+--------------------+-----------+-----------+---------+--------------------+----------------+\n",
      "|1014127332|     1/1/18 0:42|    1/1/18 12:29|9/26/20 0:42|       NO| -998.5087616000000|        YES|Field Operations|        Stray Animal|      999.0|     Closed| svcCRMLS|2315  EL PASO ST,...|               5|\n",
      "|1014127333|     1/1/18 0:46|     1/3/18 8:11| 1/5/18 8:30|       NO|-2.0126041670000000|        YES|     Storm Water|Removal Of Obstru...|4.322222222|     Closed| svcCRMSS|2215  GOLIAD RD, ...|               3|\n",
      "+----------+----------------+----------------+------------+---------+-------------------+-----------+----------------+--------------------+-----------+-----------+---------+--------------------+----------------+\n",
      "only showing top 2 rows\n",
      "\n",
      "+---------------+--------------------+----------------------+-------------------+\n",
      "|  dept_division|           dept_name|standardized_dept_name|dept_subject_to_SLA|\n",
      "+---------------+--------------------+----------------------+-------------------+\n",
      "|311 Call Center|    Customer Service|      Customer Service|                YES|\n",
      "|          Brush|Solid Waste Manag...|           Solid Waste|                YES|\n",
      "+---------------+--------------------+----------------------+-------------------+\n",
      "only showing top 2 rows\n",
      "\n",
      "+---------+----------------+\n",
      "|source_id| source_username|\n",
      "+---------+----------------+\n",
      "|   100137|Merlene Blodgett|\n",
      "|   103582|     Carmen Cura|\n",
      "+---------+----------------+\n",
      "only showing top 2 rows\n",
      "\n"
     ]
    }
   ],
   "source": [
    "# calling read spark function, passing case file data\n",
    "df_case = read_spark(case_file)\n",
    "df_case.show(2)\n",
    "\n",
    "# calling read spark function, passing dept file data\n",
    "df_dept = read_spark(dept_file)\n",
    "df_dept.show(2)\n",
    "\n",
    "# calling read spark function, passing source file data\n",
    "df_source = read_spark(source_file)\n",
    "df_source.show(2)"
   ]
  },
  {
   "cell_type": "code",
   "execution_count": null,
   "id": "bd9693c5",
   "metadata": {},
   "outputs": [],
   "source": []
  },
  {
   "cell_type": "code",
   "execution_count": null,
   "id": "65557b68",
   "metadata": {},
   "outputs": [],
   "source": []
  },
  {
   "cell_type": "markdown",
   "id": "16130cfb",
   "metadata": {},
   "source": [
    "## ii. Write the code necessary to store the source data in both csv and json format.\n",
    "a. Store these as `sources_csv` and `sources_json`<br>\n",
    "b. Inspect your folder structure. What do you notice?"
   ]
  },
  {
   "cell_type": "markdown",
   "id": "cef26332",
   "metadata": {},
   "source": [
    "#### csv files"
   ]
  },
  {
   "cell_type": "code",
   "execution_count": 7,
   "id": "e5567514",
   "metadata": {},
   "outputs": [],
   "source": [
    "# # write data to a destination using .write property, writing code to put in function next\n",
    "# df_case.write.csv('case_csv', mode = 'overwrite')"
   ]
  },
  {
   "cell_type": "code",
   "execution_count": 8,
   "id": "ef529338",
   "metadata": {},
   "outputs": [],
   "source": [
    "# # write data to a destination using .write property, writing code to put in function next\n",
    "# df_dept.write.csv('dept_csv', mode = 'overwrite')"
   ]
  },
  {
   "cell_type": "code",
   "execution_count": 9,
   "id": "b11b5462",
   "metadata": {},
   "outputs": [],
   "source": [
    "# # write data to a destination using .write property, writing code to put in function next\n",
    "# df_source.write.csv('source_csv', mode = 'overwrite')"
   ]
  },
  {
   "cell_type": "markdown",
   "id": "f501aeaf",
   "metadata": {},
   "source": [
    "#### json files"
   ]
  },
  {
   "cell_type": "code",
   "execution_count": 10,
   "id": "5ffa87d5",
   "metadata": {},
   "outputs": [],
   "source": [
    "# # write data to a destination using .write property, writing code to put in function next\n",
    "# df_case.write.json('case_json', mode = 'overwrite')"
   ]
  },
  {
   "cell_type": "code",
   "execution_count": 11,
   "id": "8270fe12",
   "metadata": {},
   "outputs": [],
   "source": [
    "# # write data to a destination using .write property, writing code to put in function next\n",
    "# df_dept.write.json('dept_json', mode = 'overwrite')"
   ]
  },
  {
   "cell_type": "markdown",
   "id": "a1951e74",
   "metadata": {},
   "source": [
    "### What I notice when inspecting folder structure . . . \n",
    "The data appears to have been split and separate files created from that split data. After a google search on why pyspark splits data when caching I learned the following:\n",
    ">This is the way spark is designed to write out multiple files in parallel. Writing out many files at the same time is faster for big datasets. <br>([Source: Stack Overflow](https://stackoverflow.com/questions/24371259/how-to-make-saveastextfile-not-split-output-into-multiple-file))"
   ]
  },
  {
   "cell_type": "markdown",
   "id": "ee9796fe",
   "metadata": {},
   "source": [
    "## iii. Inspect the data in your dataframes. \n",
    "a. Are the data types appropriate? <br>\n",
    "> All strings\n",
    "\n",
    "b. Write the code necessary to cast the values to the appropriate types."
   ]
  },
  {
   "cell_type": "markdown",
   "id": "731f8eb3",
   "metadata": {},
   "source": [
    "#### inspecting case df"
   ]
  },
  {
   "cell_type": "code",
   "execution_count": 12,
   "id": "8e0828da",
   "metadata": {},
   "outputs": [],
   "source": [
    "# # looking at the dtypes for case data\n",
    "# pd.DataFrame(df_case.dtypes, columns = ['col', 'dtype'])"
   ]
  },
  {
   "cell_type": "markdown",
   "id": "8867c22b",
   "metadata": {},
   "source": [
    "column | dtype | should be . . . \n",
    ":-- | :-- | :--\n",
    "case_id | string | <<\n",
    "case_opened_date | string | date\n",
    "case_closed_date | string | date\n",
    "SLA_due_date | string | date\n",
    "case_late | string | bool\n",
    "num_days_late | string | int\n",
    "case_closed | string | bool\n",
    "dept_division | string | <<\n",
    "service_request_type | string | <<\n",
    "SLA_days | string | int\n",
    "case_status | string | bool\n",
    "source_id | string | <<\n",
    "request_address | string | <<\n",
    "council_district | string | <<"
   ]
  },
  {
   "cell_type": "markdown",
   "id": "ad75e84b",
   "metadata": {},
   "source": [
    "#### First, I will change the dtypes that should be dates"
   ]
  },
  {
   "cell_type": "code",
   "execution_count": 13,
   "id": "19c082bd",
   "metadata": {
    "scrolled": true
   },
   "outputs": [
    {
     "data": {
      "text/plain": [
       "[('case_id', 'string'),\n",
       " ('case_opened_date', 'timestamp'),\n",
       " ('case_closed_date', 'timestamp'),\n",
       " ('SLA_due_date', 'timestamp'),\n",
       " ('case_late', 'string'),\n",
       " ('num_days_late', 'string'),\n",
       " ('case_closed', 'string'),\n",
       " ('dept_division', 'string'),\n",
       " ('service_request_type', 'string'),\n",
       " ('SLA_days', 'string'),\n",
       " ('case_status', 'string'),\n",
       " ('source_id', 'string'),\n",
       " ('request_address', 'string'),\n",
       " ('council_district', 'string')]"
      ]
     },
     "execution_count": 13,
     "metadata": {},
     "output_type": "execute_result"
    }
   ],
   "source": [
    "# storing format in var\n",
    "fmt = 'M/d/yy H:mm'\n",
    "\n",
    "# casting dates\n",
    "df_case = df_case.withColumn('case_opened_date', to_timestamp('case_opened_date', fmt))\\\n",
    "    .withColumn('case_closed_date', to_timestamp('case_closed_date', fmt))\\\n",
    "    .withColumn('SLA_due_date', to_timestamp('SLA_due_date', fmt))\n",
    "\n",
    "# verifying dtypes changed\n",
    "df_case.dtypes"
   ]
  },
  {
   "cell_type": "markdown",
   "id": "505ed814",
   "metadata": {},
   "source": [
    "#### Next, I want to confirm the columns that I think are booleans only have two values"
   ]
  },
  {
   "cell_type": "code",
   "execution_count": 14,
   "id": "2fc15d06",
   "metadata": {
    "scrolled": false
   },
   "outputs": [
    {
     "name": "stdout",
     "output_type": "stream",
     "text": [
      "+---------+\n",
      "|case_late|\n",
      "+---------+\n",
      "|      YES|\n",
      "|       NO|\n",
      "+---------+\n",
      "\n",
      "+-----------+\n",
      "|case_closed|\n",
      "+-----------+\n",
      "|        YES|\n",
      "|         NO|\n",
      "+-----------+\n",
      "\n",
      "+-----------+\n",
      "|case_status|\n",
      "+-----------+\n",
      "|       Open|\n",
      "|     Closed|\n",
      "+-----------+\n",
      "\n"
     ]
    }
   ],
   "source": [
    "# looking at the unique values for case late\n",
    "df_case.select('case_late').distinct().show()\n",
    "\n",
    "# looking at the unique values for case closed\n",
    "df_case.select('case_closed').distinct().show()\n",
    "\n",
    "# looking at the unique values for case status\n",
    "df_case.select('case_status').distinct().show()"
   ]
  },
  {
   "cell_type": "markdown",
   "id": "b9f76f73",
   "metadata": {},
   "source": [
    "#### Confirmed these should be boolean values. I will change those now."
   ]
  },
  {
   "cell_type": "code",
   "execution_count": 15,
   "id": "73926b3c",
   "metadata": {},
   "outputs": [
    {
     "name": "stdout",
     "output_type": "stream",
     "text": [
      "+---------+-----------+-----------+\n",
      "|case_late|case_closed|case_status|\n",
      "+---------+-----------+-----------+\n",
      "|    false|       true|      false|\n",
      "|    false|       true|      false|\n",
      "+---------+-----------+-----------+\n",
      "only showing top 2 rows\n",
      "\n"
     ]
    },
    {
     "data": {
      "text/plain": [
       "[('case_id', 'string'),\n",
       " ('case_opened_date', 'timestamp'),\n",
       " ('case_closed_date', 'timestamp'),\n",
       " ('SLA_due_date', 'timestamp'),\n",
       " ('case_late', 'boolean'),\n",
       " ('num_days_late', 'string'),\n",
       " ('case_closed', 'boolean'),\n",
       " ('dept_division', 'string'),\n",
       " ('service_request_type', 'string'),\n",
       " ('SLA_days', 'string'),\n",
       " ('case_status', 'boolean'),\n",
       " ('source_id', 'string'),\n",
       " ('request_address', 'string'),\n",
       " ('council_district', 'string')]"
      ]
     },
     "execution_count": 15,
     "metadata": {},
     "output_type": "execute_result"
    }
   ],
   "source": [
    "# casting the boolean columns from strings to True or False values\n",
    "df_case = df_case.withColumn('case_late', expr('case_late == \"YES\"'))\\\n",
    "        .withColumn('case_closed', expr('case_closed == \"YES\"'))\\\n",
    "        .withColumn('case_status', expr('case_status == \"YES\"'))\n",
    "\n",
    "# verifying column values\n",
    "df_case.select('case_late', 'case_closed', 'case_status').show(2)\n",
    "\n",
    "# verifying dtypes changed\n",
    "df_case.dtypes"
   ]
  },
  {
   "cell_type": "code",
   "execution_count": null,
   "id": "6c672a66",
   "metadata": {},
   "outputs": [],
   "source": []
  },
  {
   "cell_type": "code",
   "execution_count": null,
   "id": "b42f272b",
   "metadata": {},
   "outputs": [],
   "source": []
  },
  {
   "cell_type": "code",
   "execution_count": null,
   "id": "2b9e61c7",
   "metadata": {},
   "outputs": [],
   "source": []
  },
  {
   "cell_type": "code",
   "execution_count": null,
   "id": "460b3190",
   "metadata": {},
   "outputs": [],
   "source": []
  },
  {
   "cell_type": "code",
   "execution_count": 16,
   "id": "0ad7db9e",
   "metadata": {},
   "outputs": [
    {
     "ename": "TypeError",
     "evalue": "withColumn() missing 1 required positional argument: 'col'",
     "output_type": "error",
     "traceback": [
      "\u001b[0;31m---------------------------------------------------------------------------\u001b[0m",
      "\u001b[0;31mTypeError\u001b[0m                                 Traceback (most recent call last)",
      "\u001b[0;32m<ipython-input-16-5978f8827880>\u001b[0m in \u001b[0;36m<module>\u001b[0;34m\u001b[0m\n\u001b[1;32m      1\u001b[0m \u001b[0;31m# casting integers\u001b[0m\u001b[0;34m\u001b[0m\u001b[0;34m\u001b[0m\u001b[0;34m\u001b[0m\u001b[0m\n\u001b[0;32m----> 2\u001b[0;31m \u001b[0mdf_case\u001b[0m\u001b[0;34m.\u001b[0m\u001b[0mwithColumn\u001b[0m\u001b[0;34m(\u001b[0m\u001b[0;34m'case_'\u001b[0m\u001b[0;34m)\u001b[0m\u001b[0;34m\u001b[0m\u001b[0;34m\u001b[0m\u001b[0m\n\u001b[0m",
      "\u001b[0;31mTypeError\u001b[0m: withColumn() missing 1 required positional argument: 'col'"
     ]
    }
   ],
   "source": [
    "# casting integers\n",
    "df_case.withColumn('case_')"
   ]
  },
  {
   "cell_type": "code",
   "execution_count": null,
   "id": "b05dd82a",
   "metadata": {},
   "outputs": [],
   "source": []
  },
  {
   "cell_type": "code",
   "execution_count": null,
   "id": "5ca9a9a8",
   "metadata": {},
   "outputs": [],
   "source": []
  },
  {
   "cell_type": "code",
   "execution_count": null,
   "id": "42b864bf",
   "metadata": {},
   "outputs": [],
   "source": [
    "# looking at the dtypes for dept data\n",
    "pd.DataFrame(df_dept.dtypes, columns = ['col', 'dtype'])"
   ]
  },
  {
   "cell_type": "code",
   "execution_count": null,
   "id": "ed9481ea",
   "metadata": {},
   "outputs": [],
   "source": []
  },
  {
   "cell_type": "code",
   "execution_count": null,
   "id": "871897ad",
   "metadata": {},
   "outputs": [],
   "source": []
  },
  {
   "cell_type": "code",
   "execution_count": null,
   "id": "5ce1939c",
   "metadata": {},
   "outputs": [],
   "source": []
  },
  {
   "cell_type": "code",
   "execution_count": null,
   "id": "df7c5fe5",
   "metadata": {},
   "outputs": [],
   "source": [
    "# looking at the dtypes for case data\n",
    "pd.DataFrame(df_source.dtypes, columns = ['col', 'dtype'])"
   ]
  },
  {
   "cell_type": "code",
   "execution_count": null,
   "id": "c4b41658",
   "metadata": {},
   "outputs": [],
   "source": []
  },
  {
   "cell_type": "code",
   "execution_count": null,
   "id": "728d860f",
   "metadata": {},
   "outputs": [],
   "source": []
  },
  {
   "cell_type": "code",
   "execution_count": null,
   "id": "469d1a2b",
   "metadata": {},
   "outputs": [],
   "source": []
  },
  {
   "cell_type": "markdown",
   "id": "edad5fba",
   "metadata": {},
   "source": [
    "<hr>\n",
    "\n",
    "# Questions"
   ]
  },
  {
   "cell_type": "markdown",
   "id": "7a77c30c",
   "metadata": {},
   "source": [
    "### 1a. How old is the latest (*in terms of days past SLA*) currently open issue? \n",
    "### 1b. How long has the oldest (*in terms of days since opened*) currently opened issue been open? "
   ]
  },
  {
   "cell_type": "code",
   "execution_count": null,
   "id": "2df84f35",
   "metadata": {},
   "outputs": [],
   "source": []
  },
  {
   "cell_type": "code",
   "execution_count": null,
   "id": "4165708f",
   "metadata": {},
   "outputs": [],
   "source": []
  },
  {
   "cell_type": "code",
   "execution_count": null,
   "id": "a53d28f6",
   "metadata": {},
   "outputs": [],
   "source": []
  },
  {
   "cell_type": "code",
   "execution_count": null,
   "id": "95733ba0",
   "metadata": {},
   "outputs": [],
   "source": []
  },
  {
   "cell_type": "markdown",
   "id": "db108777",
   "metadata": {},
   "source": [
    "### 2. How many Stray Animal cases are there?"
   ]
  },
  {
   "cell_type": "code",
   "execution_count": null,
   "id": "a0b6686e",
   "metadata": {},
   "outputs": [],
   "source": []
  },
  {
   "cell_type": "code",
   "execution_count": null,
   "id": "4ba6c94f",
   "metadata": {},
   "outputs": [],
   "source": []
  },
  {
   "cell_type": "markdown",
   "id": "db455c76",
   "metadata": {},
   "source": [
    "### 3. How many service requests that are assigned to the Field Operations department `dept_division` are not classified as \"Officer Standby\" request type `service_request_type`?"
   ]
  },
  {
   "cell_type": "code",
   "execution_count": null,
   "id": "f842d5e0",
   "metadata": {},
   "outputs": [],
   "source": []
  },
  {
   "cell_type": "code",
   "execution_count": null,
   "id": "3dd601dd",
   "metadata": {},
   "outputs": [],
   "source": []
  },
  {
   "cell_type": "markdown",
   "id": "2fb5d061",
   "metadata": {},
   "source": [
    "### 4. Convert the `council_district` column to a string column."
   ]
  },
  {
   "cell_type": "code",
   "execution_count": null,
   "id": "3a0bc907",
   "metadata": {},
   "outputs": [],
   "source": []
  },
  {
   "cell_type": "code",
   "execution_count": null,
   "id": "8aaee657",
   "metadata": {},
   "outputs": [],
   "source": []
  },
  {
   "cell_type": "markdown",
   "id": "2a3a5a8d",
   "metadata": {},
   "source": [
    "### 5. Extract the year from the `case_closed_date` column."
   ]
  },
  {
   "cell_type": "code",
   "execution_count": null,
   "id": "9947459c",
   "metadata": {},
   "outputs": [],
   "source": []
  },
  {
   "cell_type": "code",
   "execution_count": null,
   "id": "a3c6abce",
   "metadata": {},
   "outputs": [],
   "source": []
  },
  {
   "cell_type": "markdown",
   "id": "16646043",
   "metadata": {},
   "source": [
    "### 6. Convert `num_days_late` from days to hours in new columns `num_hours_late`."
   ]
  },
  {
   "cell_type": "code",
   "execution_count": null,
   "id": "6004eeb6",
   "metadata": {},
   "outputs": [],
   "source": []
  },
  {
   "cell_type": "code",
   "execution_count": null,
   "id": "1caac82b",
   "metadata": {},
   "outputs": [],
   "source": []
  },
  {
   "cell_type": "markdown",
   "id": "cc4375aa",
   "metadata": {},
   "source": [
    "### 7. Join the case data with the source and department data."
   ]
  },
  {
   "cell_type": "code",
   "execution_count": null,
   "id": "a3595c68",
   "metadata": {},
   "outputs": [],
   "source": []
  },
  {
   "cell_type": "code",
   "execution_count": null,
   "id": "d0366222",
   "metadata": {},
   "outputs": [],
   "source": []
  },
  {
   "cell_type": "markdown",
   "id": "cda87367",
   "metadata": {},
   "source": [
    "### 8. Are there any cases that do not have a request source?"
   ]
  },
  {
   "cell_type": "code",
   "execution_count": null,
   "id": "36010b86",
   "metadata": {},
   "outputs": [],
   "source": []
  },
  {
   "cell_type": "code",
   "execution_count": null,
   "id": "51df3cd3",
   "metadata": {},
   "outputs": [],
   "source": []
  },
  {
   "cell_type": "markdown",
   "id": "147c2717",
   "metadata": {},
   "source": [
    "### 9. What are the top 10 service request types in terms of number of requests?"
   ]
  },
  {
   "cell_type": "code",
   "execution_count": null,
   "id": "0a299d90",
   "metadata": {},
   "outputs": [],
   "source": []
  },
  {
   "cell_type": "code",
   "execution_count": null,
   "id": "b9256156",
   "metadata": {},
   "outputs": [],
   "source": []
  },
  {
   "cell_type": "markdown",
   "id": "8ba42bf7",
   "metadata": {},
   "source": [
    "### 10. What are the top 10 service request types in terms of average days late?"
   ]
  },
  {
   "cell_type": "code",
   "execution_count": null,
   "id": "5c0f4909",
   "metadata": {},
   "outputs": [],
   "source": []
  },
  {
   "cell_type": "code",
   "execution_count": null,
   "id": "77f820e9",
   "metadata": {},
   "outputs": [],
   "source": []
  },
  {
   "cell_type": "markdown",
   "id": "9a371d84",
   "metadata": {},
   "source": [
    "### 11. Does number of days late depend on department?"
   ]
  },
  {
   "cell_type": "code",
   "execution_count": null,
   "id": "1c60a0df",
   "metadata": {},
   "outputs": [],
   "source": []
  },
  {
   "cell_type": "code",
   "execution_count": null,
   "id": "9fb83d8a",
   "metadata": {},
   "outputs": [],
   "source": []
  },
  {
   "cell_type": "markdown",
   "id": "6955a3e3",
   "metadata": {},
   "source": [
    "### 12. How do number of days late depend on department and request type?"
   ]
  },
  {
   "cell_type": "code",
   "execution_count": null,
   "id": "1d14fbd1",
   "metadata": {},
   "outputs": [],
   "source": []
  },
  {
   "cell_type": "code",
   "execution_count": null,
   "id": "be11ad43",
   "metadata": {},
   "outputs": [],
   "source": []
  },
  {
   "cell_type": "markdown",
   "id": "cc356f60",
   "metadata": {},
   "source": [
    "### max date\n",
    "You might have noticed that the latest date in the dataset is fairly far off from the present day. To account for this, replace any occurances of the current time with the maximum date from the dataset."
   ]
  },
  {
   "cell_type": "code",
   "execution_count": null,
   "id": "2085e12e",
   "metadata": {},
   "outputs": [],
   "source": []
  },
  {
   "cell_type": "code",
   "execution_count": null,
   "id": "4e5153cf",
   "metadata": {},
   "outputs": [],
   "source": []
  },
  {
   "cell_type": "code",
   "execution_count": null,
   "id": "9f4b6cb3",
   "metadata": {},
   "outputs": [],
   "source": []
  }
 ],
 "metadata": {
  "kernelspec": {
   "display_name": "Python 3",
   "language": "python",
   "name": "python3"
  },
  "language_info": {
   "codemirror_mode": {
    "name": "ipython",
    "version": 3
   },
   "file_extension": ".py",
   "mimetype": "text/x-python",
   "name": "python",
   "nbconvert_exporter": "python",
   "pygments_lexer": "ipython3",
   "version": "3.8.8"
  }
 },
 "nbformat": 4,
 "nbformat_minor": 5
}
